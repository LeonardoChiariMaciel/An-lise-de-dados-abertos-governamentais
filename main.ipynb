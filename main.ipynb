{
 "cells": [
  {
   "cell_type": "markdown",
   "metadata": {
    "id": "Ax2dKxsbJ09g"
   },
   "source": [
    "# Estimativa de chegadas de turistas no Brasil em 2023 (atualizada em 2024)"
   ]
  },
  {
   "cell_type": "markdown",
   "metadata": {},
   "source": [
    "## MEMBROS"
   ]
  },
  {
   "cell_type": "raw",
   "metadata": {
    "vscode": {
     "languageId": "raw"
    }
   },
   "source": [
    "LEONARDO CHIARI\n",
    "RAFAEL NEUBANER\n",
    "KAUE DE PAIVA\n",
    "JOAO PAULO"
   ]
  },
  {
   "cell_type": "markdown",
   "metadata": {},
   "source": [
    "URL DO BANCO ORIGINAL: https://onedrive.live.com/:x:/g/personal/24AE38B9DB3EE467/Eb6_G1nxSFRFnm5aaN0-P3cBs6YMgRBN1eCh_1LrFQlICA?resid=24AE38B9DB3EE467!s591bbfbe48f145549e6e5a68dd3e3f77&ithint=file%2Cxlsx&e=ckz1Yk&migratedtospo=true&redeem=aHR0cHM6Ly8xZHJ2Lm1zL3gvYy8yNGFlMzhiOWRiM2VlNDY3L0ViNl9HMW54U0ZSRm5tNWFhTjAtUDNjQnM2WU1nUkJOMWVDaF8xTHJGUWxJQ0E_ZT1ja3oxWWs"
   ]
  },
  {
   "cell_type": "code",
   "execution_count": 5,
   "metadata": {
    "id": "9Cnb0VajJFCM"
   },
   "outputs": [
    {
     "name": "stdout",
     "output_type": "stream",
     "text": [
      "Requirement already satisfied: gdown in c:\\users\\rafael\\anaconda3\\lib\\site-packages (5.2.0)\n",
      "Requirement already satisfied: beautifulsoup4 in c:\\users\\rafael\\anaconda3\\lib\\site-packages (from gdown) (4.12.3)\n",
      "Requirement already satisfied: filelock in c:\\users\\rafael\\anaconda3\\lib\\site-packages (from gdown) (3.13.1)\n",
      "Requirement already satisfied: requests[socks] in c:\\users\\rafael\\anaconda3\\lib\\site-packages (from gdown) (2.32.3)\n",
      "Requirement already satisfied: tqdm in c:\\users\\rafael\\anaconda3\\lib\\site-packages (from gdown) (4.66.5)\n",
      "Requirement already satisfied: soupsieve>1.2 in c:\\users\\rafael\\anaconda3\\lib\\site-packages (from beautifulsoup4->gdown) (2.5)\n",
      "Requirement already satisfied: charset-normalizer<4,>=2 in c:\\users\\rafael\\anaconda3\\lib\\site-packages (from requests[socks]->gdown) (3.3.2)\n",
      "Requirement already satisfied: idna<4,>=2.5 in c:\\users\\rafael\\anaconda3\\lib\\site-packages (from requests[socks]->gdown) (3.7)\n",
      "Requirement already satisfied: urllib3<3,>=1.21.1 in c:\\users\\rafael\\anaconda3\\lib\\site-packages (from requests[socks]->gdown) (2.2.3)\n",
      "Requirement already satisfied: certifi>=2017.4.17 in c:\\users\\rafael\\anaconda3\\lib\\site-packages (from requests[socks]->gdown) (2024.8.30)\n",
      "Requirement already satisfied: PySocks!=1.5.7,>=1.5.6 in c:\\users\\rafael\\anaconda3\\lib\\site-packages (from requests[socks]->gdown) (1.7.1)\n",
      "Requirement already satisfied: colorama in c:\\users\\rafael\\anaconda3\\lib\\site-packages (from tqdm->gdown) (0.4.6)\n"
     ]
    }
   ],
   "source": [
    "!pip install gdown\n",
    "import gdown\n",
    "import io\n",
    "import sqlite3\n",
    "import pandas as pd"
   ]
  },
  {
   "cell_type": "code",
   "execution_count": 7,
   "metadata": {
    "id": "D9YtyUIKJoBD"
   },
   "outputs": [
    {
     "name": "stderr",
     "output_type": "stream",
     "text": [
      "Downloading...\n",
      "From: https://drive.google.com/uc?export=download&id=1l60T97B1rQD-pxqZ0A234BQMVsmjCQtE\n",
      "To: C:\\Users\\Rafael\\tabela.sql\n",
      "100%|█████████████████████████████████████████████████████████████████████████████| 8.11M/8.11M [00:00<00:00, 37.7MB/s]\n"
     ]
    },
    {
     "data": {
      "text/plain": [
       "<sqlite3.Cursor at 0x250282f7540>"
      ]
     },
     "execution_count": 7,
     "metadata": {},
     "output_type": "execute_result"
    }
   ],
   "source": [
    "url = \"https://drive.google.com/uc?export=download&id=1l60T97B1rQD-pxqZ0A234BQMVsmjCQtE\"\n",
    "output = 'tabela.sql'\n",
    "gdown.download(url, output, quiet=False)\n",
    "\n",
    "\n",
    "conn = sqlite3.connect('chegadassdb')\n",
    "cursor = conn.cursor()\n",
    "\n",
    "with io.open('tabela.sql', 'r', encoding='utf-8') as f:\n",
    "    sql = f.read()\n",
    "\n",
    "cursor.executescript(sql)"
   ]
  },
  {
   "cell_type": "code",
   "execution_count": 9,
   "metadata": {},
   "outputs": [
    {
     "data": {
      "text/plain": [
       "<sqlite3.Cursor at 0x250282f7540>"
      ]
     },
     "execution_count": 9,
     "metadata": {},
     "output_type": "execute_result"
    }
   ],
   "source": [
    "query=\"\"\"\n",
    "CREATE TABLE Continente (\n",
    "    cod_continente INT PRIMARY KEY,\n",
    "    nome VARCHAR(50) NOT NULL,\n",
    "    hemisferio VARCHAR(100)\n",
    "\n",
    ");\n",
    "\"\"\"\n",
    "cursor.execute(query)\n"
   ]
  },
  {
   "cell_type": "code",
   "execution_count": 11,
   "metadata": {},
   "outputs": [
    {
     "data": {
      "text/plain": [
       "<sqlite3.Cursor at 0x250282f7540>"
      ]
     },
     "execution_count": 11,
     "metadata": {},
     "output_type": "execute_result"
    }
   ],
   "source": [
    "query=\"\"\"\n",
    "CREATE TABLE Pais (\n",
    "    cod_pais INT PRIMARY KEY,\n",
    "    nome VARCHAR(100) NOT NULL,\n",
    "    cod_continente INT NOT NULL,\n",
    "    FOREIGN KEY (cod_continente) REFERENCES Continente (cod_continente)\n",
    ");\n",
    "\"\"\"\n",
    "cursor.execute(query)\n"
   ]
  },
  {
   "cell_type": "code",
   "execution_count": 13,
   "metadata": {},
   "outputs": [
    {
     "data": {
      "text/plain": [
       "<sqlite3.Cursor at 0x250282f7540>"
      ]
     },
     "execution_count": 13,
     "metadata": {},
     "output_type": "execute_result"
    }
   ],
   "source": [
    "query=\"\"\"\n",
    "CREATE TABLE Unidade_Federativa (\n",
    "    cod_uf INT PRIMARY KEY,\n",
    "    nome VARCHAR(100) NOT NULL\n",
    ");\n",
    "\"\"\"\n",
    "cursor.execute(query)\n"
   ]
  },
  {
   "cell_type": "code",
   "execution_count": 15,
   "metadata": {},
   "outputs": [
    {
     "data": {
      "text/plain": [
       "<sqlite3.Cursor at 0x250282f7540>"
      ]
     },
     "execution_count": 15,
     "metadata": {},
     "output_type": "execute_result"
    }
   ],
   "source": [
    "query=\"\"\"\n",
    "CREATE TABLE Pais_Unidade_Federativa (\n",
    "\tcod_pais INT NOT NULL,\n",
    "\tcod_uf INT NOT NULL,\n",
    "\tPRIMARY KEY (cod_pais, cod_uf),\n",
    "\tFOREIGN KEY (cod_pais) REFERENCES Pais (cod_pais),\n",
    "\tFOREIGN KEY (cod_uf) REFERENCES Unidade_Federativa (cod_uf)\n",
    ");\n",
    "\"\"\"\n",
    "cursor.execute(query)\n"
   ]
  },
  {
   "cell_type": "code",
   "execution_count": 17,
   "metadata": {},
   "outputs": [
    {
     "data": {
      "text/plain": [
       "<sqlite3.Cursor at 0x250282f7540>"
      ]
     },
     "execution_count": 17,
     "metadata": {},
     "output_type": "execute_result"
    }
   ],
   "source": [
    "query=\"\"\"\n",
    "CREATE TABLE Via (\n",
    "    cod_via INT PRIMARY KEY,\n",
    "    nome VARCHAR(50) NOT NULL\n",
    ");\n",
    "\"\"\"\n",
    "cursor.execute(query)\n"
   ]
  },
  {
   "cell_type": "code",
   "execution_count": 19,
   "metadata": {},
   "outputs": [
    {
     "data": {
      "text/plain": [
       "<sqlite3.Cursor at 0x250282f7540>"
      ]
     },
     "execution_count": 19,
     "metadata": {},
     "output_type": "execute_result"
    }
   ],
   "source": [
    "query=\"\"\"\n",
    "CREATE TABLE Mes (\n",
    "    cod_mes INT PRIMARY KEY,\n",
    "    nome VARCHAR(50) NOT NULL,\n",
    "    estacao VARCHAR(50)\n",
    ");\n",
    "\"\"\"\n",
    "cursor.execute(query)\n"
   ]
  },
  {
   "cell_type": "code",
   "execution_count": 21,
   "metadata": {},
   "outputs": [
    {
     "data": {
      "text/plain": [
       "<sqlite3.Cursor at 0x250282f7540>"
      ]
     },
     "execution_count": 21,
     "metadata": {},
     "output_type": "execute_result"
    }
   ],
   "source": [
    "query=\"\"\"\n",
    "CREATE TABLE Chegada (\n",
    "    id_chegada INT PRIMARY KEY,\n",
    "    ano INT NOT NULL,\n",
    "    cod_mes VARCHAR(20) NOT NULL,\n",
    "    cod_via INT NOT NULL,\n",
    "    quantidade INT NOT NULL,\n",
    "    cod_pais INT NOT NULL,\n",
    "    cod_uf INT NOT NULL,\n",
    "    FOREIGN KEY (cod_via) REFERENCES Via (cod_via),\n",
    "    FOREIGN KEY (cod_pais) REFERENCES Pais (cod_pais),\n",
    "    FOREIGN KEY (cod_uf) REFERENCES Unidade_Federativa (cod_uf)\n",
    ");\n",
    "\"\"\"\n",
    "cursor.execute(query)\n"
   ]
  },
  {
   "cell_type": "raw",
   "metadata": {},
   "source": [
    "A TABELA ORIGINAL OBTIDA NO SITE DO GOVERNO TEM O SEGUINTE FORMATO:\n",
    "\n",
    "CREATE TABLE tableName (\n",
    "    Continente\tVARCHAR(512),\n",
    "    cod_continente\tINT,\n",
    "    pais\tVARCHAR(512),\n",
    "    cod_pais\tINT,\n",
    "    UF\tVARCHAR(512),\n",
    "    cod_uf\tINT,\n",
    "    Via\tVARCHAR(512),\n",
    "    cod_via\tVARCHAR(512),\n",
    "    ano\tINT,\n",
    "    mes\tVARCHAR(512),\n",
    "    cod_mes\tINT,\n",
    "    Chegadas\tINT\n",
    "    );\n",
    "\n",
    "--Para atender a condicao de pelo menos 4 entidades com ao menos 2 atributos\n",
    "--Adicionaremos a coluna hemisferio na tabela Continente"
   ]
  },
  {
   "cell_type": "markdown",
   "metadata": {},
   "source": [
    "FIZEMOS A LEITURA DAS MAIS DE 34 MIL LINHAS DE INSERT DA TABELA ORIGINAL\n"
   ]
  },
  {
   "cell_type": "markdown",
   "metadata": {},
   "source": [
    "AGORA VAMOS PREENCHER AS TABELAS DO RELACIONAL USANDO A TABELA:\n"
   ]
  },
  {
   "cell_type": "code",
   "execution_count": 28,
   "metadata": {},
   "outputs": [
    {
     "data": {
      "text/plain": [
       "<sqlite3.Cursor at 0x250282f7540>"
      ]
     },
     "execution_count": 28,
     "metadata": {},
     "output_type": "execute_result"
    }
   ],
   "source": [
    "query=\"\"\"\n",
    "INSERT INTO Continente (cod_continente, nome)\n",
    "SELECT DISTINCT cod_continente, Continente FROM Tabela;\n",
    "\"\"\"\n",
    "cursor.execute(query)\n",
    "\n"
   ]
  },
  {
   "cell_type": "code",
   "execution_count": 30,
   "metadata": {},
   "outputs": [
    {
     "data": {
      "text/plain": [
       "<sqlite3.Cursor at 0x250282f7540>"
      ]
     },
     "execution_count": 30,
     "metadata": {},
     "output_type": "execute_result"
    }
   ],
   "source": [
    "query1=\"\"\"\n",
    "UPDATE Continente\n",
    "SET hemisferio = 'Norte'\n",
    "WHERE nome IN ('America Central e Caribe', 'America do Norte', 'Asia', 'Europa');\n",
    "\"\"\"\n",
    "cursor.execute(query1)"
   ]
  },
  {
   "cell_type": "code",
   "execution_count": 32,
   "metadata": {},
   "outputs": [
    {
     "data": {
      "text/plain": [
       "<sqlite3.Cursor at 0x250282f7540>"
      ]
     },
     "execution_count": 32,
     "metadata": {},
     "output_type": "execute_result"
    }
   ],
   "source": [
    "query2=\"\"\"\n",
    "UPDATE Continente\n",
    "SET hemisferio = 'Sul'\n",
    "WHERE nome IN ('Africa', 'America do sul', 'Oceania');\n",
    "\"\"\"\n",
    "\n",
    "cursor.execute(query2)\n"
   ]
  },
  {
   "cell_type": "code",
   "execution_count": 34,
   "metadata": {},
   "outputs": [
    {
     "data": {
      "text/plain": [
       "<sqlite3.Cursor at 0x250282f7540>"
      ]
     },
     "execution_count": 34,
     "metadata": {},
     "output_type": "execute_result"
    }
   ],
   "source": [
    "query=\"\"\"\n",
    "INSERT INTO Mes (cod_mes, nome)\n",
    "SELECT DISTINCT cod_mes, Mes FROM Tabela;\n",
    "\"\"\"\n",
    "cursor.execute(query)"
   ]
  },
  {
   "cell_type": "code",
   "execution_count": 36,
   "metadata": {},
   "outputs": [
    {
     "data": {
      "text/plain": [
       "<sqlite3.Cursor at 0x250282f7540>"
      ]
     },
     "execution_count": 36,
     "metadata": {},
     "output_type": "execute_result"
    }
   ],
   "source": [
    "query0=\"\"\"\n",
    "UPDATE Mes\n",
    "SET estacao = 'Inverno'\n",
    "WHERE nome IN ('Julho', 'Agosto', 'Setembro');\n",
    "\"\"\"\n",
    "cursor.execute(query0)"
   ]
  },
  {
   "cell_type": "code",
   "execution_count": 38,
   "metadata": {},
   "outputs": [
    {
     "data": {
      "text/plain": [
       "<sqlite3.Cursor at 0x250282f7540>"
      ]
     },
     "execution_count": 38,
     "metadata": {},
     "output_type": "execute_result"
    }
   ],
   "source": [
    "query1=\"\"\"\n",
    "UPDATE Mes\n",
    "SET estacao = 'Primavera'\n",
    "WHERE nome IN ('Outubro', 'Novembro', 'Dezembro');\n",
    "\"\"\"\n",
    "cursor.execute(query1)"
   ]
  },
  {
   "cell_type": "code",
   "execution_count": 40,
   "metadata": {},
   "outputs": [
    {
     "data": {
      "text/plain": [
       "<sqlite3.Cursor at 0x250282f7540>"
      ]
     },
     "execution_count": 40,
     "metadata": {},
     "output_type": "execute_result"
    }
   ],
   "source": [
    "query2=\"\"\"\n",
    "UPDATE Mes\n",
    "SET estacao = 'Outono'\n",
    "WHERE nome IN ('Abril', 'Maio', 'Junho');\n",
    "\"\"\"\n",
    "cursor.execute(query2)"
   ]
  },
  {
   "cell_type": "code",
   "execution_count": 42,
   "metadata": {},
   "outputs": [
    {
     "data": {
      "text/plain": [
       "<sqlite3.Cursor at 0x250282f7540>"
      ]
     },
     "execution_count": 42,
     "metadata": {},
     "output_type": "execute_result"
    }
   ],
   "source": [
    "query3=\"\"\"\n",
    "UPDATE Mes\n",
    "SET estacao = 'Verao'\n",
    "WHERE nome IN ('Janeiro', 'Fevereiro', 'Marco');\n",
    "\n",
    "\"\"\"\n",
    "cursor.execute(query3)"
   ]
  },
  {
   "cell_type": "code",
   "execution_count": 44,
   "metadata": {},
   "outputs": [
    {
     "data": {
      "text/plain": [
       "<sqlite3.Cursor at 0x250282f7540>"
      ]
     },
     "execution_count": 44,
     "metadata": {},
     "output_type": "execute_result"
    }
   ],
   "source": [
    "query=\"\"\"\n",
    "INSERT INTO Pais (cod_pais, nome, cod_continente)\n",
    "SELECT DISTINCT cod_pais, Pais, cod_continente FROM Tabela;\n",
    "\"\"\"\n",
    "cursor.execute(query)\n"
   ]
  },
  {
   "cell_type": "code",
   "execution_count": 46,
   "metadata": {},
   "outputs": [
    {
     "data": {
      "text/plain": [
       "<sqlite3.Cursor at 0x250282f7540>"
      ]
     },
     "execution_count": 46,
     "metadata": {},
     "output_type": "execute_result"
    }
   ],
   "source": [
    "query=\"\"\"\n",
    "INSERT INTO Unidade_Federativa (cod_uf, nome)\n",
    "SELECT DISTINCT cod_uf, UF FROM Tabela;\n",
    "\"\"\"\n",
    "cursor.execute(query)\n"
   ]
  },
  {
   "cell_type": "code",
   "execution_count": 48,
   "metadata": {},
   "outputs": [
    {
     "data": {
      "text/plain": [
       "<sqlite3.Cursor at 0x250282f7540>"
      ]
     },
     "execution_count": 48,
     "metadata": {},
     "output_type": "execute_result"
    }
   ],
   "source": [
    "query=\"\"\"\n",
    "INSERT INTO Pais_Unidade_Federativa (cod_pais, cod_uf)\n",
    "SELECT DISTINCT cod_pais, cod_uf\n",
    "FROM Tabela\n",
    "WHERE cod_pais IS NOT NULL AND cod_uf IS NOT NULL;\n",
    "\"\"\"\n",
    "cursor.execute(query)\n"
   ]
  },
  {
   "cell_type": "code",
   "execution_count": 50,
   "metadata": {},
   "outputs": [
    {
     "data": {
      "text/plain": [
       "<sqlite3.Cursor at 0x250282f7540>"
      ]
     },
     "execution_count": 50,
     "metadata": {},
     "output_type": "execute_result"
    }
   ],
   "source": [
    "query=\"\"\"\n",
    "INSERT INTO Via (cod_via, nome)\n",
    "SELECT DISTINCT cod_via, Via FROM Tabela;\n",
    "\"\"\"\n",
    "cursor.execute(query)\n"
   ]
  },
  {
   "cell_type": "code",
   "execution_count": 52,
   "metadata": {},
   "outputs": [
    {
     "data": {
      "text/plain": [
       "<sqlite3.Cursor at 0x250282f7540>"
      ]
     },
     "execution_count": 52,
     "metadata": {},
     "output_type": "execute_result"
    }
   ],
   "source": [
    "query=\"\"\"\n",
    "INSERT INTO Chegada (ano, cod_mes, cod_via, quantidade, cod_pais, cod_uf)\n",
    "SELECT ano, cod_mes, cod_via, Chegadas, cod_pais, cod_uf FROM Tabela;\n",
    "\"\"\"\n",
    "cursor.execute(query)\n"
   ]
  },
  {
   "cell_type": "markdown",
   "metadata": {},
   "source": [
    "AGORA AS TABELAS ESTÃO SALVAS E PREENCHIDAS.\n",
    "O ESQUEMA RELACIONAL MONTADO SE ENCONTRA NA TERCEIRA FORMA NORMALIZADA\n"
   ]
  },
  {
   "cell_type": "code",
   "execution_count": null,
   "metadata": {},
   "outputs": [],
   "source": [
    "#SELECTS PARA VER AS TABELAS\n",
    "Continente=\"\"\"SELECT * FROM Continente\"\"\"\n",
    "Pais=\"\"\"SELECT * FROM Pais\"\"\"\n",
    "Mes=\"\"\"SELECT * FROM Mes\"\"\"\n",
    "Unidade_Federativa=\"\"\"SELECT * FROM Unidade_Federativa\"\"\"\n",
    "Via=\"\"\"SELECT * FROM Via\"\"\"\n",
    "Chegada=\"\"\"SELECT * FROM Chegada\"\"\"\n",
    "#digite o nome da tabela que quer visualizar no df abaixo \n",
    "df = pd.read_sql_query(,conn)\n",
    "df"
   ]
  },
  {
   "cell_type": "markdown",
   "metadata": {},
   "source": [
    "A PARTIR DESTE PONTO O ESQUEMA RELACIONAL ESTÁ PRONTO, NA TERCEIRA FORMA NORMALIZADA, COM AO MENOS 4 ENTIDADES COM 2 OU MAIS ATRIBUTOS (FORA A PK) E UMA RELAÇÃO M:N"
   ]
  },
  {
   "cell_type": "markdown",
   "metadata": {},
   "source": [
    "## DIAGRAMA ER"
   ]
  },
  {
   "cell_type": "markdown",
   "metadata": {},
   "source": [
    "![schema_2.png](data:image/png;base64,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)"
   ]
  },
  {
   "cell_type": "markdown",
   "metadata": {},
   "source": [
    "## DIAGRAMA RELACIONAL"
   ]
  },
  {
   "cell_type": "markdown",
   "metadata": {},
   "source": [
    "![schema_2.png](data:image/png;base64,iVBORw0KGgoAAAANSUhEUgAABEIAAAJFCAYAAADZF1L7AAAAAXNSR0IArs4c6QAAAARnQU1BAACxjwv8YQUAAAAJcEhZcwAADsMAAA7DAcdvqGQAAGPgSURBVHhe7d0NmCT3XR/46pnZ0WCBeLMTIHaCFBO/SGh3jY14OT+XfZSLUHLBJHGwya49K1k+cCA6ltzGJ98RHEjsOIIsLBjnYlvaRRKxyZsdnuTiBKEQX4JtGe8LkpCNkUwk86IjXBiPNOvVzsz1r6b+s7WtnpnunX791+ezTz1d9e/q6vr1dNVWfedfNa2lpaX1og/Ly8vFwsJCMTc3V7XkTb15U2/e1Js39eZNvXlTb97Umzf15q0p9c5UjwAAAADZE4QAAAAAjSEIAQAAABpDEAIAAAA0hiAEAAAAaAxBCAAAANAYghAAAACgMQQhAAAAQGMIQgAAAIDGEIQAAAAAjSEIAQAAABpDEAIAAAA0hiAEAAAAaAxBCAAAANAYghAAAACgMQQhAAAAQGMIQgAAAIDGEIQAAAAAjSEIAQAAABpDEAIAAAA0hiAEAAAAaAxBCAAAANAYghAAAACgMQQhAAAAQGMIQgAAAIDGEIQAAAAAjSEIAQAAABpDEAIAAAA0hiAEAAAAaAxBCAAAANAYghAAAACgMQQhAAAAQGMIQgAAAIDGEIQAAAAAjSEIAQAAABpDEAIAAAA0hiAEAAAAaIzWU089tV6N9+T8+fPFzMxMMTc3V7XkTb15U2/e1Js39eZNvXlTb97Umzf15q0p9fYdhKysrBQLCwtFq9WqWkbn6aefLp555plqqihmVn+nmCt+v5oajvgi7NmzZyz1joN6h2et+NJideZrivXWl5XTz3ve84orr7yyHB+VcW6/45Dq/YM/+IOqZWO/MVM83R6Wq5Z82H7ztlW9nfuW8IIXvKAam17Ttr+aWX2ivV/5QjGz/oWqpT/x852fn6+m8qfe8Vpr7y9WWy8s1meuqloGq6nHG+rNk3rz1FpaWuorCFleXi4/mHEkRBGExFCeyKz9btU6XOfOnSsPPGdnZ6uWvKl3+NZmvrZYm/26MgQZdRAyzu13HFK9f/iHf1hOz174TNG6zJOUaWD7zdtO9aZ9S/hjf+yPlY/TbJr2V7PPPtzetyxVU5fH9zlvk1rv2uwL28OLqqnBaerxhnrzpN48Td09QuIkZlQhCAxDfH8jzGO0cg9BwL5lPAYRgoT19b5+LzX11DsZZlafLHszATTN1AUhM6tCEKafMG+0IgARgtAEwpDRaq0tDSQEgXEShgBNNFVBiJMZcuJkZXQEqMAwOHkEgOnkz+cC2ROg0iSt9fxuBDyp9AYhF9G7CaBJpqtHyJqTGQDYjuAP6JdQD2gaPUIAAACAxhCEAAAAAI0hCJky7z/574rv/6F3F99245HyMaYv16fOfLYckljmoNWXD+Qjtu3YB6Vhp31Rmh/YnYO3vuuS4eMPPlo9010v83SK+TtfE8vZzvH3fKgcutnptZ3ivbda1k7S55KGfpbT73pup/6+Mf6z7/031RQAk0AQMkU2govfKt79j76/+C/3Hysfw+WGIadOf7Yckp+pljdI7z/5kWoMyEnsO960eFO5H+plX/SKvS8u5wd25+OffLS47663lsPtb3lNcfBN25+8xzw3vOql1VRv4j06dWuru+GVL22/13dVU+NT/3w2PqPxrNPx93y4Gtv4bP7Gm/9iNQXAJBCETJEIFTpPJN60+B3V2MXeIukxiekYUi+SEKHK+3/uI2WwktpSKHKqaqsvL6kvJ/X22Oo3wzF+qnoutaVlxpBeD+Slvp+I8Y0Q92LwWn/efgAuXwQccZIdotdB6gGRhiT17kjz7KbnQ+qtkZZTf580np6Px/rzIaZffP0txa1v+cnip//xv+66bvXQJb1fev5yXbL86j3rtcRjXUwfetP289fXLQ0hnk+PqS16hERdaTrEeCwjhjRvDOn1AAyPIGSKRKgQv1XtFGHIxonGRm+RmH7F3j+9GT5Ee4heJKm9/O3sG28qp9Nvc9N8p85uPMZy4rkITEI6YUm9UX6gfRIT0slNtNXnj/H97feJx1hWnPSk9hjS64HpFNt+7Bc2wo7fKvbve/Hmdh77iQhu0/6gLuZN+5G0/wB6l06e00n1xvSnL+kBEdPlYxUqxDwh5rnhVS/ZnO5XLC+9Vwyp58Ol4cWl65KkE/zPnr27uOs9P1j8zP/1r8vpWJePtYe0zLpYfiwnhljvepCwlXifNKTpCIw21uk1m+say07t8dj5Wd37/o31Sb1u6rXH+qTXl+vWfkyfRaohzZeWW75H+rm03yPGI8yK5cd6xbzlc7XPEoDhEIRMkQgVthOhRhLBQ/0EJKbTYwo8tlNfVrzvxsnOxR4k6WQnhSPd5u+m8/XAdKsHoRGwRmCb9jcpcO0m9gERoER4AvSnPCGvTpbTSXeEBEk6oa6LE+44UU+hQL+Xy9TFSXsSy6rrDFjq6xLrXJ/+ge/9zvIx2v/XWntaZhkWtJ9LoUYEBylI2M5GqLAxhFhGqj0eU2AR0udwae+aD5fvk943pLrqn3Po9vrtpNdvfBavKZdb/3l0+9kBMHiCkCmSenPUpd/Gdvut6k7BSb/i/WNIPTo2epj09x7ptTEM454kwOhEiBGhRwo+uukWvKZ7i8Tr3UcI+hcny2noR/TEKE++y2Bg+54VMc/l6gwLtvKJX7sYakSPkE4pXIiwJw0p3NhO+bpqSOrLuO/9G+HRVjXG+sf7pPnjc0vL6iXs6GZ9fb0aS5fEbPQGAWA8BCFTJPXm2OiGvhGAxOUl6WQknov29Fy9l0Y36TexW/Xe6BTzp/eI5cdvdHd6bfx2OK1TrE96TbzeCRDkJ3qA1PdRsQ/oFPuteN5lMTAYcUK90VsiLrfoHnJEW719uxP6CFg2ekVcXF4vAURI6/JTP3vxHhpJLCO1xz0zPvHJjSAk3u+n/3H9/eo9NjYuh0nLupyAJt63voy0/M72tOz4bGKeCGeiPfUK6bTdusUyoj2GuvTZJikMqS8HgOGbveOOO95ejffk/PnzxdzcXDEzM/oM5cIX/7C4cP4Pq6nRuHDhQjE7OzuWerv5izd9c1G06t3Rf6D42q/5qnI8nvvd3//DzefSb2nj+TRP+L3f+8PiFftevNFWLStNv+D5VxWzM7PF133dV2++Jj1G748YT8v/P9/61zeXEY+d88djhCcxf4zH+sVj/fXjNs6f754rvqo9fHU1NRrj3H7HIdX7xacfq1ryNtLvc3u7D2l7T2JfUt9Hpf1Q2Xus2lek/ULYzX5g0vbPw9ZPvV9y1TdUY9NrGvZXM6tPVmO718/Pt1tPgr/6mv+h+Pzv/EF5Ml6GHO3trT5fPB/SyXpMx4n3v/zX/0/Zlob0mvJEvj0dywydvU9e+Ceev/H4dc9/zngsO3YR5fJq6xJDal9bWysvh2m1WuVr6u/3D//ebRvLi/ZqfeK5EOvRbb1DWo963aFzGWn53ZYdyyiHdi2f6Jg/6XyfzteHeH20l59Je/jjL/jy4k++6I+XP9+oNV6b5u382cRzadmjtDb7omps95p6vKHePKk3T62lpaWLffV6sLy8XCwsLJQfzqitLP1msfKFjYPnUTl37lyxZ8+e8uCkCdQ7Ol/yZS8e+cnKOLffcUj1Lv3+f6ha8mb7zVs/9X7Vn7i5Gpte07C/mjv/q9XY7q2srBTz8/Mj/T539lYIozoB3229nes+juCgH9Owv7ow/63V2O419XhDvXlSb56aEWsBAHCJ1POgPkyLaVvv+j1CABg/QQgAAADQGIIQAAAAoDEEIQAAAEBjCEIAAACAxhCEAAAAAI3hz+fuwJ9nzNs46/Xnc4cv1evP5+ZJvVvz53NHY9r/fO44qXfy+PO5l29S6j1//nzx7LPPVlMbZlZ/pxobnPg+x/9HTfn55lrv+syXFeutL6umNlx55ZWN2X6nKgi5cO7xYnXlc9XUaKyca//HtadB/1Grd2Rmv+Tri7mFq6up0WjqgcnqFz5ateTN9pu3fuq94isPVGPTaxr2V4KQy6feySMIuXyTUu/TTz9dDiECkJm13y3HB80vIvKyNvO1xdrs15XjX/EVX1EGak3YfqcqCJlZfaI9PFlNjYb/qPM2znrXZl/YHl5UTY1GUw9MFtYerFryZvvNWz/1DvKEZlymYX8lCLl86p08gpDLNyn1piBk9sJnitb6F6rWwROE5CeFIU0KQtwjBAAAIAPDDkHIU/QeGsZlVJNMEAIAAJABIQiXa1iXUk0qQQgAAMCUE4KwW6315Wosf4IQAACAKddaE4RArwQhAJCZ06dPV2P0y2cHAPkThABARm4/+t7iyJEj5eCkvn/xuZ04caKaAgByJAjJwKmzj1VjozWu9wUmn/3D+NzyhhuLffv2lSGIQAQ2fPzBR6uxwRnGMmHSPfwb/7Ua603Mv9VrPvgv/3M11rvLeU3y0CMb67LdOnXzG59+shobrH7Xg8HKLgh59U1vK38bloa77rm/bI/xdGAejzFfDgfqUcPdVY3DFu+VPs9w+9H3VWODU18+jEp9n5GGEN/H+neyczoHUc+g94Wj2i+1Wq1qjLr9119THDt2rBwEIuN18NZ3PWcIx9/zoXJIYvxn3/tvqqlLxcn2i6+/pXztoTdtLCPa0mPSOc1F8bkcf8+Hq6nBOdj+eUCTxEn7Q7/xRDW14Rf+1X/e8WS+8zXJ5QQBv3CZQUgEKA8/+kS5Lmno1SOf/nz52kH4O3//n15Scz/rwWBl2SPk+J1v3hzuvvfSg/E4QI8T+ON33lYeLDbJVic7vZ4EnTrzeDW24aMfeUc1dlG/J1Sd85/u8vp+lwmXI36LnvYb+9r7hs7AI03f2p5vmoxi++l8j9i3xufIeEUIIhAZv9vf8privrveWg43vOollwQgIU3/jTf/xfKxm7SMe9+flvPS6pkNEYLEPJ3tDNdnz95djW34mCCKhkvBRgzR+yJc+7I/WVz3sheV4yGeK0OJWhiQ1Nvrz8d4t/nDVsvqJtbjdX/l2zeHpJf1qevWHtNpSDrnS+MRfsR4/bOpzxfS5xfScjrnYXdaS0tL69V4T5aXl4uFhYVibm6uahmdmdUn2sP2XZOip0f9BD1+sxsH5PEYJzrxW8p47DUEWVlZKebn54vZ2dmqZfDiBKseAKQTiF7bw3YnHTF/BEL7r7+6nE71d1t+1Pu3f/jeYv/ea8rnTp19vN1+WxmCpOlYTsybPuvO5cRJZDpZjOdCPJ/au82/f+/V5c8mLT/WMURodcuhGy95/SCN4ue7lbXZFxaf+vX/Vk2Nxrlz58ptt5/tN06gplXaXy2sPVi1dJf2D2m/kKY7w79JDEEihIjtJLab1bW14hXtbfdNb/yfLmkPaftJ7Wm7CjvtE1MPmaRzWfEe0RbLS9tufHZpew/D2Ibj+7xnz56xbL/j0M/+6pOPfEk1dlGEHydPnqymNrbtxcXFamp76+vrI++Bczn7q+30WkMERfG59LLve+XLV6qx7joDijT98U9eesJ8+1u+a8ufb/RmiPljnrq0rOjpEAFL5/OTrt//fyMw+viDn66mijIQCilISs/V2+vzh/RcN2n++CzTY/pMO5f1za98SfG//o3vKn8Gscz0M/rEJz/d/p51f59xHm/06sL8t1ZjuzfO84VxmJR6V5Z+s1j5wmerqcGLE/E4iX/NX/imzf9/o0fItS/dOJn/O3//A8V3/5VvL0/uY/xf3Pu3q/Z/Wvzo//E95Ql9snFi/0S7/fXldP21MV+EBBFWpNek9nhNLDden+ZL6uFGp3I57e3zupdvrGu8rnMZMR3rGY9pfdJ6/sgd311cf+3Xl7WkACNe2zl/qNeQXt9ZZ4j1TZ/NXz30Dy/5vFIt3ZaT1ncYvuz5NxRffHa+EdtvlkFIHODXxYF3HMink+x+DsaH/R9XnEhEAFAPOSIUCOlEIqSTiRQYdIYi2wUhUXu35XcuJ3zPa7+tDEJufePFsCTUT2jSOnUGIWlZ6f3SyWQ6wYr50nLq89fDq/q6dr6+M+QahHEemMTn0NljaRKlk6VpDET6CUJC7BtC+n6m72oY9En8oNS3k/g+x/b70z9+MahM0nS37TL2CWm6m16XFe0RnIa0/4p50jad9gGDIgjpLj7z+P+O4Yvjje2+03GiHOKkOsTJdJwk10+s0wn3Vj/fOMmuX4IR4UfMH8uOk+8bXvnS7IOQdGlLPeSIukM9JIr2EM91zp8++62k19aXFaHGt7zqucuK9noQUn9trGvo7J0zzuONXglCLp8gZCNcSMFAiPbYVrY62Q/phD+WGeFBOsGP5YR62JCkZdTDgtA5X6d4/pFHnyhD8RCvjbZ4z1j/yMljOrXHY1qf+37hV4pvvPZPFbMzM+Vz3/2Xv31z/pincz3TutXrSfV1Ppc+m5gnxHOpLT0m9eUMiyBkG9MQhKQD8fqBff2AvfOgfjvD/o8rTgxC54FU5wlGCkzSiVp9/vqJRqfOoCXp9r7xufz7D/3w5olUkpbf+Zr0OXa2p3WP9+0U7em37PX50/rVx2P56bfZyVZ1Xq5xHphEb5DoFTJKl/Mb1vgNcvwmOcKQw4cPV63ToZ8gJLatFBKm7S6+2/VQJNS3mUlQ35+l7/PZh3/7Odt9fbust0ddOwUh9e0ypOlu7fEeod4jJIVJ9X3aIEzDicUg9Vpv7PdX566tpi6VtufQS8BZn7+fHiSDMOgeIb2KHiG91tpLj5AIKdJJezo5rp+Yp5PoNx++qevPd7seISkAiXuI3Pf+514yM8n6CTLrQUNdfAb1HjcpMEnBU33+FFpsJd5jI1S6uKy41CVOdrq1d/YIifcNW4VS07C/EoRcPkHIYIOQ9D7dgpB6SNAZCMSyttItROi2jG7vmYKQ34h7hbTXrf6amD/UX5PWMam/d6o5LSPNW685xPOdn1e3GgatSUFIlvcIiQPt7Q624zc46aRm0sQBbAxxUpYCg+3EvNvp/BzS8jtFW2fosFtRQwxxohRDeaLZsT7bifVJr02vz8m+fXvLg+1RDtddd13X9u2GuL9AnBDECVHOf1IyhQGd39H0vYuT+knswdO53Z6475fLGnrtEZBCiu1stayd3qPcr7Q/17QNdwtHGbz4+XduxxFmpHuDxPb8wAMPlMFm53ydQ2z/MW+M1wORUQyXs78axBD27u1t/9yLdBLdGVLUT9bjJPrBT32mnO5HClgiBEkn4k1QhkPtIT7DCIl2EvP2or6sGI/eIGl8O/F8BCIpaOn1/WDaxAl4581K6/ey2Mm17ZP4OOHvJkKAJI3H+8XlIEm8Nk2nMCBChRSAbLXsrXRbRoj2CB2S9FdjUoCR5o9Qor7eSefr6+uV3rNTtMdnW39dXEKz1XLYvUb++dz0G91JCENiXeJEJH6TGusT19t3a0+/xd1q/u3EiVx9OSF9BvXlpN/kbiW9d8zfi/r8McT4TtK6xglUrE9av17fk+GIE6YUhjRZhKjxnZwk9e37ng/8StV6cV3T9hPzlSfItfl73a4ibOlcVuh8j85gJN4v9jmdr2N0Irw8cOBAue3WA5B+RSASUhjCYEWvhve899+W49HLoF8bQctzb8SaiwiLogdNfDZRY7pUqLM9XcKy1fw7iddsLCfdL+SlXd+jm52eh1zEyfnB244Xb3/nL5Q9FuIEfquT+04RHsSJffSCiCFJIURqr5/wx/ul9nroEK+J+dJzodf1SDrfN8Qyui27LrXH+qRl1NVfH59RXYQn8RnUA44k3Tsk1RHz1pdTD4XYvewujdno2fDcg+1u7VvNWzeqroyxLqHbOobt2lMdcaLRGTZEeBJ6XX7U+8ijny++af+Ly+mQlp/GQ/1968+HbtOhvoyd5t/u9YM0zq6qcVnM2uxG97dR2c32GydUcTKV/gLFNOj10pjO71zSrX2reccpbSNf/OL54lWv+IbN7/NW2069PdUTj509NiK4iEAzwo7Yl6R567otq1N9nkGahq7mg9RPve/7+U9vBpcRgAzisra0D4gwZRTGdbwRwVGvn9nc+V+txrrb6LVwaU+Q0K39P/3nM8W3f8t1xUv23/acv0bSTbdlbPV+k+hy7vGTelp0qzts154+mxRy1EV4Eu2ph03o5T3SMtN46HxdMg37K5fGXL5JqXfYl8Ykk3yPrggN4sbY6V4goX6ZyuWY5HoHzT1CtjHODb2XIGTQHGjnbZz1TlsQEvo5QZgEqd6dgpBcDOv7nIKQSWN/1V38vKJ3zqC3VUHIc+0UhPQjfr7/113/rpiZaZW9EHI3aScWKQjZKsjYrWnYXwlCLt+k1CsIGQ5BSJ4aeWkMAL1zSct0icsKL/cSmF7kfnlM9HobV9j7N7/vOxsRgkyiem8QAPInCAFgW+meQkyHQV+ClEzLJXG71ZQ6uVT0BBlWbxAAJo8gBAAAAGgMQQiXiJsLAQAMU/1GhgAwaoIQAAAAoDEEIQAAAEBjCEIAAACAxmgtLS31dZHmOP9O9szqE+3hyWpqNKbh774PUtP+Lvg4f75rsy9sDy+qpkZjt9vvgQMHisXFxbH9acl+pXoX1h6sWvLWtP2Verd2Yf5bq7HBiT+be+TIkfLPy47iL6uM83ijV3Pnf7Ua2z3f57xNQ72D3G9Mw/Y7SJNS76jOlZq2/Tbp/Gh17triC8/MNGL71SMEAAAAaAxBCAAAANAYghAAAACgMQQhXMLf9QcAACBnghAAAKAnceNkgGknCAEAAHYUfzlKEDKZTpw4UfzgD/1INQX9O3X2seIH/9aPFA899FDVkjdBCAAAjRMH/bsRr9/tMqbRmTNnqjEmQQQgBw4cKE6ePFnsHcGfNidf+6+/pny84447iqNHj2YfegpCAACG4OCt73rOEI6/50PlkMT4z77331RTl/r4g48WL77+lvK1h960sYxoS49J5zQ7u/3o+6qx/t1+9L3FqTOPV1MwevUAZHFxsRxueeNfrp7d2l333H/JkNTHQ+f0JIogcjfrGa8tt+UdAs0m3UPxJ3/i7xbvfOc7y/HoAZZzL7DWU0891ddP9vz588XMzEwxNzdXtYzO7Nrn28OT1dRoXLhwoWi1WsXs7GzVMjxnfv1zxd5v/Ppq6qKt2nvR72tHWe8kGGe9qzMvbA9/opoajd1uvzfffHNx8ODB4tChQ1XLZEv1Pq/4taolb/1+n3vZP+xm/zNs9ldbOz93QzU2ONFVNn5DFAdI+0bwW8dxHm/0av7Cx6ux7g5/708Uf+N/+UvFN3/Tnymn3/1PfrF8TL6//Vxq+95bb+768/3Er32mePDXPl3OWxfLfsub/+fihle+pLjl+44V33fbXyjHp8Ugt99+j59S+41/6e3F/b/49qq1Pz/0thPFP3rH4WpqZ9Owv+plvxG/KY5a7rzzzqqlu2nYfgdplPV+4AMfKMOP8LrXva58PHx447vYy7lSfO/Td/d0e1s489Dnyun4Ti9+z58tt42TP/8fy+cX//qfLR87Tcr3Obblk//0P/a1LSZnH/6vxd333F8c+we3VC1bm4btd1CenXlZ8cULC+X3Of7fv++++8rH+H8/zgGuu+66as7p13cQsrKyUiwsLJRfhlEbRxASO7b5+flqajhix1P/zzptzLETip1TknZOR/73u4vrr/uTxcO/8WRx6uzjxU/8/cXiofb46bOPtdv/VPHG9nyxvFhuOd5ext7rvn7LnVndKOqdJOOsdxxByG6332kLQlK9V6x+omrJT30/sb62Vuy7/prNbT0dyNT3AemgIaajfV97n7K6urq5P0knBXffe3+xZ8988akzv1VOX85BxrDZX21tGEFI/EYoToLiBGgUB0LjPN7oVb9BSJqOYKMuQo6tfr7bBSE/8H3fWRx/z4eLb7vh5cX3vekvVM9Mh0Fsv53HSVsdP9Xbfy72f9XxVuwPtwtC6ieGIZ1AxjLiBDLa689vZxr2V5946IryN9/bbXNxUhQn++kEfCvPPvtsOd8gtt+t1qnf9jCsEHcU+6voAfLBD36wHI/eH+H1r399+Zj0GoTUv/cp1Evf9/huh+3OGwb9fU7bbH17qh/DdG5naf50LLPdMUrMm2o5/euPt78g5WjZC+TsQ/+1PKe65dCNG41bmIbtd1AuzL28eHpl7pLvcwpE4jgg/v+Pc4FR/EJk2FpLS0t9BSHLy8vlBzOOhHdm9Yn2MNogJHZs8cUfZgIYXbKO3/nmcjx179q/9+oypUzt5XWoZx4vbn3DjeX8t7Qf4zqumD8CkDTfq296W/HRj7zjknnq7TsZRb2TZJz1rs2+sD28qJoajd1uv9EFM/7zTb95mHSp3oW1B6uW/KR9Ruwb4vv857/rx7ruA7bat8S+4fidt23uT0LnPPX3mCT2V1u7MP+t1djgxAFQdJE9duzYSA6Axnm80au5879ajXWXLoW54VUbPTU+/uCni/vuemt5KUyMh3ju9rd815Y/3/IymDdtLCfc/pbXlPOXl8J88tHihle+dHMZ02S3228cF3Xup2LfFbbaf9WPt+L1cWnMdsdG2x1L1ZfVi0nfX0U9EYbnblj7rugxMMx9VeelCVvV0Vr7ox2/l/XvcWwf6TwivgMhvgc7nTMM6vuctuP4JU469qiPx/YXUntsx7H+EVzEPHFuVD8P6qa+rZ5u13bXPb9UTqfa69v4ViZ9+x2U+Hncdd8nt/w+17+HvWxLb3zjG4v9+/dXU5NHELKDUXzx6xto+g87bdz1E4+046rPXw9IQponHvdfv3FAkGy3k0iasqEn46xXEDJ8TQlCYn8R/4nH9/lv//C9xU//+MYBTX2bT/uKdHCRnuu2P4l54gShvg9JByCTxP5qa4KQ0eglCImQIsKKcMOrNh5TEJJCkfDmwzd1/flGEBKBR2fQkZYd7XEPkfve/9bN5U+D3W6/ncc/ST34SOKYKALf+r4vdO4nO8XzTQlC4vNcnbu2mtpauiQj9UjYyrlz58ptd5K239iHDetGr8MOQkIvJ6H72v9vv+Ibv3rbE/v6OUIKHWL++E7HdHQCiFtibPd//qC+z1ttx53bXv34pHP+Xrbj9Hw9CNnqvbtp0vHG33zrLwwkCKnPO6rjhn4JQnYwii9+fQPdLghJ89Xn79yI03/SsZz6azunt9KkDT2Ms15ByPA1OQjZ2Jest7f7P3fJfKG+z+i2P+nc/0R72O7Aahzsr7YmCBmNXoKQ6MHRGVCk8COFGxFk3PWeHyy+/Vuue87Pd7sgJC075olLZCJYmRaD2H4791/lY3vfFer7rxSA1OcP9WCjm7hEME4s074v5yAk9LLfiH1AiP3AdqZh+x2kUdQb++AIouIx9sFxPNa5L+7lXGmr7318p1P4sHEMsXUYMqjv81bvUz+2CWk7jqAm1OffaVusPy8I2VkEol94ZuaS73NcltUZgvZyLlD/zk5iGOKvxkyotOHHxhs7g7Rz6lXsPNJr004GaI7YB9x97y9v7gOi+2evQUbn/icOPoDhiUDjPe/9t+V4BBz9ijAkeoekgKUp4qSocz8VJzWxv7t4/PS+zeOn+vzx2ItYbswfA4xTnETGyWQKoSKUiiFOMgcttqMIAlPAOCxpe01iu+wMNUNsh7Edd65XL9tlbPdpvk+dGW49uen2l4kiAOn1F6LpOxuPKUSdJHqE7GAUCWBszPXEs36ykjb0zratTmh6ef12mpR4hnHWq0fI8KV6c+4RUt/m4/v8yKOfL75p/4vL6bDTPmCn/Unodf8xavZXW9MjZDR26hESPTW6Xa7Srf0//eczZY+Ql+y/rfjs2bur1q11W8ZW7zeJBrX9brWf6qU97f/iJKl+MhbSb8a7zR/q472Yhv2VHiGXbxz11n/bHvvkOD6Ly2J2OleKsKFbD4rYDuq9MGI6dOsxMcjvc2xLKciM0CK9Xy/tIT0X7Ulc2hOX+KTtdnP+duO+b7z6kvl72Y6bdLwRPULee9cvlDdHDf30ANlK6lEyquOHXglCdtCkL35Q7+gIQoYv1ZtzEFIX12Tv2bPH9pupfuoVhIzGTkFIP2L7fc/7/m375zvznMtgcmT7nTy97DfihCbusyEIudQ4660HInHvj34u2bpck/h9jmCj3oskdAtxLkdT9lfxGUYvujCIAKRuEs8hXBoDADAB0l+EgUkVIehOIQijlX4mMazPfPklPSOaJHp2RPBRH+hPfIYRVsSfxz506NDU/OLzcglCAACgwdZbV1Vj25ukbu1cKn42P/XjP9TTpR6wlVve+FfKEKQJBCEAAJchLnGEHIz6Ul2AcROEAGRiPe4OBjAFWnEnwwaZ9HrXZ3rrEQKQC0EIAMBliN+i6xXCtIu/EgHQNIIQAIDLFGFInEj2eo8FmBQR4pXfXb1BgAby53N34M+75W2c9frzucOX6m3Kn8+1/eatn3r9+dzxaK0tFa31P6qm+vP008+U9cafz20C9Y7XeuvLhxqATOP2uxuTUu+ozpX8/5uvCEe/8MzMwL/Pk3gOIQjZgQ09b+OsVxAyfKleQUie1Ls1Qcj0UW/e1Ju3SalXEDIcTaq3SUGIS2MAAACAxhCEAAAAAI0hCAEAAAAaQxACAAAANIYgBAAAAGgMQQgAAADQGIKQCXDq7GPV2OD0ssyYp5/3HsZ6wqDEn/ZkutinAAAwDoKQHbRarWpseO6+5/5qbHBuP/q+aqy724++tzh15vFqamdxwjKM9YRBiBDkyJEjxYkTJ6qW/sT20DmEV9/0tvIx3NX+/qf2nERdowok4r2S8n372Af1IuqovwcAAHQjCJkgW52M9NsePvqRd1RjG7rNe+sbbiz2X39NNbX98mK+43e+uZqCybJv375icXGxOHny5GWHIbe0t4f4jqehLk6uT7e3j2ncBrbbroet873jM0xi/xNDL3qtYatgZZyfAQAAk2f2jjvueHs13pPz588Xc3NzxczM6DOU1vpSOYzShQsXitnZ2aHW+3//h08V7/iJf1H83u//f+X4zX/+m8r2jd/UPl78u3Zbao8D+u9+453lCcXp9nPR/ru//9+Lu++9v1zG/r1XF1/7x7+y/E12nGTE/P/3v//U5jK+5mu+snjnj//zcrmxjJiO59P7fOT+08XN/9Mrynrjt9/xmvTeMd25Dun99++9GKhMk1H8fLeyPnNVe/jyamo0BrH9Rthw+PDhampyRBgSYv1CTKd659Z/p2zbSnyP4zsc205dbFexTcW2MakhSH17jO3395/678Ur9v7pzfa0X0nbaWoPUV883632urQvivnry4l9Sdr/dLbHe6Z9VNp/1Pc75Xq19z3xmtTzpnM/Fu97932/XJw+81i5/KJVbO7fwsmff6B417F/Vc4fy0r7pHiM9+y2D51m/eyv1mZfVI0Nzu/93u8VH/nIR4rv+I7vaP8Mv6ZqHZ5xHm+Mg3rzpt68TUq9ozpXGuTxcxw3pHOR9P98Uh4HtI8N4rghtUdbzBevSfNvNV+3ZV6OcZ4vjNr6zB8rzj/bGvj3OY7P49g8Ha9PgmbsnaZA9OCIE619119TbbgRdDxWhhn19rD/+qvLtnRiFicBMX7LoRuf8xvRdDlL+Xz129cYT8sI9ffZe92fKk60TzxC7DyiLc2XxDKP33lb1+fIW9p5XW6vi2GLgOZye4bE5WRxgh1DbH9JfN/L/0gnVH17/PG/98b29vy5sj3qSfuVGOIAIaT56/uW7aTPIs0foi2WE/uUenvaR4X0vrH8mD/G036n3hMt6bYfi33T8X+4UVu8T33/FvNHvYcPHijb4/l4r3h9zL/dPhQAmAzpcv74fz2OLdL/1ely5DjWiP/nU3v8357+34/HmC8dA8TrQ5o32oP//+lGELKD9fX1amz04uQrNu4YYqOPHcR2uj0fO494bfnb2PbOotsJSP19zjz021Vre3ntk5atdC6nfuJIviIISUFD3JNjEm9QWg9D7r333qp1ZxEORHAQQ/37nU7OY/uYRLH91tf3J991a7k9dm6/MZ220277ga3EQUV93xIHFfH6zvet2ylc6SYtK96rPMgph/a+6W+/b3P/VJfm3/eNG/N30+8+FADY2SDvoRjHJ+nYIh0/pOOV1B6P6Rc6IQUcIb0m2uL//ZCOCyIAifOfrY4TaDZByARLv9ksT8RqG3w/YuNPyyinO3YEsXNJv6WNIX7DGicW20k7mcTOpVlS0JBuUHrgwIGJG9LlMR/84Af7CkO2Ev+5TmqPgs7AI3p0xXbduZ1uZaftN+qO/UiSPoPYP9UNOmhIQUfqERJDv8sfxD4UABitOO7o5Zcq2x0XxHNpcAxAN4KQCZVOAuI3mXHikbp6XY7NZdx7/+Zy62JHk+b53/7Pn6tat5Z+Ox7zxxCv77Zc8hVhyAMPPFAcO3asDEUmcRi0CEPiZD++85Okvv3e84FfqVq33k7r8/dSS73uGFJwEgcW/e4H0nt3BrJb6ayhHshsJa3rIPehAMDoxLFHnLek44WN/9d7/2VIec+y9jFDHAvE4BiAblpLS0t9XfuxvLxcLCwslDdQGbWZ1Sfaw5PV1GisrKwU8/Pz5Q1yhiU28nTQXh8PaQfQ2bbV/EnnPGGrZYQ0z0u/4Ws36+02T+cyQ32eaTOKn+9W1mZfOJQbGm5nnNvvKKXLdl73utcVt912W7Gw9mD1THed3/Wk2zYQJu07n9bri188X7zqFd+w+X3ean3r7anGeOw8UIjgIg5GQi/L6iYtP+mcDtvN02356fm0/Z59+Le3nL/b66dVP/urC/PfWo0NTuoFFgHoKG521pT9VaLevKk3b5NS76jOlc6dO1fs2bNnIMfPEXKkY40y8IheHO3/s+P/73RcUj8eqc/f+X98/PIjeoGGmC9+OVL+oqZa5uUa5/nCqK3OXVt84ZmZgX+fo8d2/KJykv7ggiBkB0364gf1jo4gZDhSCBI729e+9rVlvTsFIbmw/eatn3oFIdNHvXlTb94mpd5RnSv5/zdfTQpCXBoDZKMegkzSjhYAAJgcUxWErLe+vBoDuJQQBDast66qxgAA6Ga6gpAZB3fkQ7A3OBGAbBeCxGVI0BSjvuQOgMlg/w+9m7pLY0Z9QjPIv5M9DdQ7GvEbW8He4MT9CuK+BU3vCWL7zVuv9dq3ADSXX/5wuZp2fjKFQciLbOBMtdjJrO65tppiULa7eaP9Bk0RNzkDoLn0OOZyNa1H0VTeLNVJDdMqvrdCkPGI/UacJLp/Ajkq9y3x/dYbBKDR4v8BoTj9auIxxFT9+dxuWmtLRWv9j6qpwXv66WfKemdnpzIz6pt6h2cSUlZ/zm7DsPcb42L7zdtW9cZv/0Zx8OLP5w6XevOm3rxNar3x53Q3jnmWqpbB8Odz85Auhek8RxnG93kS/3zu1Achw6bevKk3b+rNm3pHSxAyXOrNm3rzpt68qXf3JjEIacav0QAAAADaBCEAAABAYwhCAAAAgMYQhAAAAACNIQgBAAAAGkMQAgAAADSGIAQAAABoDEEIAAAA0BiCEAAAAKAxBCEAAABAYwhCAAAAgMYQhAAAAACNIQgBAAAAGkMQAgAAADSGIAQAAABoDEEIAAAA0BiCEAAAAKAxBCEAAABAYwhCAAAAgMYQhAAAAACN0XrqqafWq/GenD9/vpiZmSnm5uaqlrypN2/qzZt686be0XrooYeKo0ePFu985zuLffv2Va3D4+ebN/XmTb15U2/ehlHvzTffXBw8eLA4dOhQ1TJ+ffcIWV1dLWZnZ6up/Kk3b+rNm3rzpt7RunDhQvk4qgNBP9+8qTdv6s2bevPWlHpbS0tLffUIWV5eLhYWFhqTiKk3b+rNm3rzpt7ROn36dHHkyJHi2LFjI+kR4uebN/XmTb15U2/ehlHvgQMHisXFxeLw4cNVy/i5RwgAAADQGIIQAAAAoDEEIQAAAEBjCEIAAACAxhCEAAAAAI0hCAEAAAAaQxACAAAANIYgBAAAAGgMQQgAAADQGIIQAKBn+/btq8YAAKaTIAQA2NHJkyerMQCA6SYIAQB6ojcIAJADQQgAsK0TJ04Up0+fLhYXF6sWAIDpJQgBALqK8CNCkLgsJkIQPUIAgBy0lpaW1qvxniwvLxcLCwvF3Nxc1ZI39eZNvXlTb97Uu7UIL8KZM2fKx35FAFIXIcjhw4erqdHw882bevOm3rypN2/DqPfAgQNjOZbYjh4hAJCJCEDiYCN6cOzm5qZxsJKGBx54YKIOXAAAdkuPkB2oN2/qzZt686beS6VLWOLylQgwpv0yFj/fvKk3b+rNm3rzNox69QgBAIYiLoOJ8OPYsWPu5QEAsA1BCABMubinh7/qAgDQG0EIAEy5dHNTPUEAAHYmCAEAAAAaQxACAFMu3R8EAICdCUIAAACAxhCEAAAAAI0hCAEAAAAaQxACAAAANIYgBAAAAGgMQQgAAADQGIIQAAAAoDEEIQAAAEBjCEIAAACAxhCEAAAAAI0hCAEAAAAaQxACAAAANIYgBAAAAGgMQQgAAADQGIIQAAAAoDEEIQAAAEBjCEIAAACAxhCEAAAAAI0hCAEAAAAaQxACAAAANIYgBAAAAGgMQQgAAADQGIIQAAAAoDEEIQAAAEBjCEIAAACAxhCEAAAAAI0hCAEAAAAaQxACAAAANIYgBAAAAGgMQQgAAADQGIIQAAAAoDEEIQAAAEBjtJaWltar8Z4sLy8XCwsLxdzcXNWSN/XmTb15U2/e1HvRkSNHysdjx46Vj4N0/vz54umnn66m2gcO68vt4QvlMEwrKyvFFfNXFDOzzfidTa71rs18XbHe+tJqqiiuvPLKYn5+3vabOfXmTb15G0a9Bw4cKBYXF4vDhw9XLeMnCNmBevOm3rypN2/qvWiYQUiEICkImVn9nWJm7XfL8WE7d+5csWfPnmJ2drZqyVvO9a63vqxYnfsz5fhXfMVXCEIaQL15U2/ehlHvJAYhLo0BAHY0e+EzIwtByEv0Hpq98OlqCgDGr/XUU0/11SMkusjOzMw0JhFTb97Umzf15k29F91xxx3FhQsXijvvvLNqGZzoDfLs8tmul8Ksr/d1CNGX1dXVotVqlTU3wTTWG+vbj9XW1xRf+pUvLXuE2H7zpt68qTdvw6j35ptvLg4ePFgcOnSoahm/vv+3jf+om9JNNag3b+rNm3rzpt6LIgQZ5gHasO8H0s3a2lp5INYUTah3dv33NsMT22/e1Js39eatKfW6R8gO1Js39eZNvXlT70XDvEfIM8u/V5z7o1PV1Oi4R0ievuz5NxR7rvgq22/m1Js39eZtGPW6RwgAAADAGAlCAIAttdZGf1kMAMAwCUIAAACAxhCEAACN8/6T/64cvv+H3l186sxnq9aN9vr0KMR7AgCjIwgBABolBQ/79724eNPiTe3pj2y2ferMb5WPozSO9wSAJhOEAACNEb09Inh40+J3FK/Y++JyePc/+v7nhBHdeoZE207t8ZjU29OQ1J+r63wNADB4ghAAoDFOnf5s8Yq9f7qauijCkCR6iERvkZg3QomNto3HCFC6tW/O/3MfKac3gozfKtvDD/zQu8vnQ1yOE9Jrkrvu+fflY/01whAAGDxBCABATVwuEz1FIvRIPUVSwJGCj9Re710Sj/vbjyHClLSc8rk33lS2p2Cj/prkdG1Z9dcAAIMlCAEAGi8FHNuJnhppiJBjO529TlIvj9CtR0o4dfbSy3M6L9cBAAZDEAIANEb0uIiAoR58xPhOoUP0zojLWFJvjbhsJUSocbGXyGeLU7VLWeqXvUQPkRCvjd4lqWdIfT1uecOfv2QaABgOQQgA0CjpfiBxr450v47U1tlbI02nACXmj7DiZ6r56+0RfKRLY9IlL/X3SL1C4rURjKT29B63vuHPl8v6gb+18R5b9RwBAHantbS0tF6N92R5eblYWFgo5ubmqpa8qTdv6s2bevOm3ouOHDlSPh47dqx8HKSVpd8sVr4w+ht2njt3rtizZ08xOztbtUyHCDfqN17t1bTW268ve/4NxZ4rvsr2mzn15k29eRtGvQcOHCgWFxeLw4cPVy3jp0cIAMBliktcUq+Pb7vxiF4cADAFBCEAAJcp7vkRPUBi+C/3H9u8JAYAmFyCEAAAAKAxBCEAAABAYwhCAAAAgMYQhAAAAACNIQgBAAAAGkMQAgBsa37PXLFnyodpqmGrdc2hBgCYBK2lpaX1arwny8vLxcLCQjE314z/zNSbN/XmTb15U+9FR44cKR+PHTtWPg7SzOoT7eHJamp0VlZWivn5+WJ2drZqyVtT6l2du7ZYn7nK9ps59eZNvXkbRr0HDhwoFhcXi8OHD1ct46dHCAAAANAYghAAAACgMQQhAAAAQGMIQgAAAIDGEIQAAAAAjSEIAQAAABpDEAIAAAA0hiAEANiV24++95Lh1NnHyva77rl/czx0Tg9LvE8M3bz6prdVY/253Nddrvic4rMEAAZPEAIA7Mqps48Xx+98cznc8oYb2yfw7yvbT3eEIGH/9deUj8O0f+/Vxa3t9QAA6EYQAgAMTAQd+6+/+jk9QcIow4n0nrEeMR69K7bqJdIpzd/ZI6Nbe1p+ei7pfN8YktQeQ8yXPqsT9/3yxfYzj5dtyVbLAgD6JwgBAHYtndCnk/TU8+Pu9vTd995f9tIYh+idEu8dvVV6EWFDSL1bOkOHaN/Xri21R32pB0q9vfN9U++YzuWn3jNnHvrt9jyfK9vTa5L6a2KZ8XkCAJdPEAIA7Fr0YEi9GOon8hEOHL/ztjIwGLUIZqJ3Sgpleu2RkuaL19Vfs9m+9+oy2NgIfx4va4uwItpS+3bvW1/+LYc2xs8+9Lni8MED5XiI96irvyaWDQBcPkEIALBrcaKehro4oY+T93pviUkWwUZdhBpbSaFE6sURQ/TyCFFvL+r3UTn965e+NwAwHIIQAGDoUkAyyjAk9ciI9/zUmYuX7WwnemjEfOkyn516sqSAJ80fvWLifSPgqLcnnfMnb3j9/1icuO+Bsj3Wtf6+6TWphs6wBgDojyAEANiVdHlHp9Q7IunsLTIsZU+N6tKSdF+N01V4kNY1AoXOIcQ6xvydl/nUa0w9XELn/KnG9LrUnnTOX/+MfvIf3Fq2x7rG6zvfI9UQlxoBAJevtbS0tF6N92R5eblYWFgo5ubmqpa8qTdv6s2bevOm3ouOHDlSPh47dqx8HKSZ1Sfaw5PV1OisrKwU8/PzxezsbNUyWNHzolPqQTJoEbJED5EUjnQz7HonxerctcX6zFW238ypN2/qzdsw6j1w4ECxuLhYHD58uGoZPz1CAIDGKXuNdAyDFOFH3EC1/hdfAIDJIAgBABiwuJwlwo8Y0uUyAMBkEIQAAAAAjSEIAQAAABpDEAIAAAA0hiAEAAAAaAxBCAAAANAYghAAAACgMQQhAAAAQGMIQgAAAIDGEIQAAAAAjSEIAQAAABpDEAIAAAA0hiAEAAAAaAxBCAAAANAYghAAAACgMQQhAAAAQGMIQgCA7Nx1z/3F7UffWw4xftc9v1S2p+n0XN1W7QBAXgQhAEBWTp19rDjdHo7f+eZyqDt19vHyMdr3XX9NGX6ECD/27726bL/lDTcKQwAgY4IQACArd99zfxlmbOXW6rkIPkIEJ2H/9ddc8ggA5Kn11FNPrVfjPTl//nwxMzNTzM3NVS15U2/e1Js39eZNvRfdcccdxYULF4o777yzahmc2bXPt4cnq6nRiXparVYxOztbtfTu5M//x/Jx8a//2fLxzK9/rjj964+3pw8UN/6ltxf3/+Lba+2fK/Z949cXJ//pfyz+0TsOl+3hh952olj8nj9b7G0/Nwq7qXeaPDvzsmJ95irbb+bUmzf15m0Y9d58883FwYMHi0OHDlUt49d3j5DV1dXs/5OuU2/e1Js39eZNvRfFSXRuB2hra2u7+vmeeehzZdARoUiEHNuJsGPvdV9fzpteE9OjCkHCbuudFq2ZVvlo+82bevOm3rw1pd7W0tJSXz1ClpeXi4WFhcYkYurNm3rzpt68qfeiI0eOlI/Hjh0rHwdpZvWJ9jD6HiErKyvF/Pz8ZR+MxeUup85s3A8kXQITl7zEPUHSpTEh5kuXwtRfU59nFHZb77RYnbu27BFi+82bevOm3rwNo94DBw4Ui4uLxeHDF3tejpt7hAAA2YlwI8KMGGI8hR2dAUdqD/XXAAD5EoQAAAAAjSEIAQAAABpDEAIAAAA0hiAEAAAAaAxBCAAAANAYghAAAACgMQQhAAAAQGMIQgAAxqzValVjAMCwCUIAAACAxhCEAAAAAI0hCAEAAAAaQxACAAAANIYgBAAAAGgMQQgAABPj9OnTxYEDB6opABg8QQgAABMnAhEAGAZBCACwK7cffe8lw1333F+cOvtY+ZjEeH16knWuOwCQF0EIALArp84+Xhy/882bw61vuLFsP332sfIxgoUYT+0AAOMkCAEAhiZCkLvvub8MSEYpenSkHiqxDklP7Wcer1q3FvN3LitN7/R+3doAgNFpLS0trVfjPVleXi4WFhaKubm5qiVv6s2bevOm3ryp96IjR46Uj8eOHSsfB2lm9Yn28GQ11d2rb3pbccuhi709oudHnODffvR95XQ8129vkJWVlWJ+fr6YnZ2tWnoX7x1hRnrPCBwiiIkAInS2x/z1sKZzvm7itfuuv6acJ+aPHi+dy6rPU2+Pz+ujH3nH5nKi7dy5c8WePXsuq95pUf9OMDj79u0rFhcXN8cngf1z3tSbt2HUGzfAjv3U4cOHq5bxE4TsQL15U2/e1Js39V40CUHI8Ttvq6aKYn/75L9+4t9LsNBpN0FIhAu3tN8r1qMuhQ5JWq8IMerz9xqEpGV1zp+Cjnjcf/3VZVuIS4iiPQUnEZLs33t1+b67qXeavO/nP10+RvAT3+duzpw5U94oNZ3c52C7encrfV5hUk407J/zpt68DaNeQcgUUm/e1Js39eZNvRdNQhCSejgknb0sus2znd0EAxE0pIChrlsQEvOlS2FSkBHrXu9R0k19WZ3zp1o73y/mSyFREj0kYt6mBCGrc9cW6zNXbft9jpP6+E7H93lSejjs1rD3V/GZxXDy5MmJONmwf86bevM2jHonMQhxjxAAYOji8pjUc2IUIoSJwCHeMwKJED0wYjq1333v/ZthSfTQ2GxvD4PwnPerlpsuD+nlXiTQiwiM4gQjTjQiDAFge4IQAGBX6vcHSSJgiCAgid4SZe+Ls8O/OWi8V1zqkoKG1Ctjcx2q9tRDpdv8MV+IAKM+pPWP+ZOoNc0f0ufR+X5pPeIyoottFy8pgkFJl8oA0J1LY3ag3rypN2/qzZt6Lxr3pTHDMCmXinQLbjovuRkEl8Zc5NKY3ZmELuj2z3lTb96GUa9LYwAApkjZ26NjYLjSX0HJJQQBYPIIQgAAmCiT9FtDAPIjCAEAAAAaQxACAAAANIYgBAAAAGgMQQgAAADQGIIQAAAAoDEEIQAAAEBjCEIAAACAxhCEAAAAAI0hCAEAAAAaQxACAAAANIYgBAAAAGgMQQgANMzp06eLAwcOlI8AAE0jCAEAAAAaQxACAOzK7Uffe8lw1z33F6fOPlY+JjFen55knevei3hN1A4ATD5BCACwK6fOPl4cv/PNm8Otb7ixbD999rHyMUKCGE/tOdp//TXFLRnXBwA5EYQAAEMTIcjd99xfBiSjFD06Ug+VWIekp/Yzj1et3XX2FknT9dfVlxfj9fcCAMartbS0tF6N92R5eblYWFgo5ubmqpa8qTdv6s2bevPWrd4TJ06UjydPniwfGYzjd95W9njYyqtveltxy6GLvSGi50ec+N9+9H3ldDzXb2+QlZWVYn5+vpidna1aehfvHaFEes8IIyKISYFFZ3vMXw9rOufrVH8+BRzx+aTlxeO+9nR6Pj6HnT7D3dQ7TVbnri3WZ66yvxqiuBHy4uJicfjw4apl9Px886bevA2j3knYL3UShOxAvXlTb97Um7fOeo8cObL5V1DiP9vcnDt3rqy3mwh+9u3bV+zdu7dq2d6ZM2fKz6qXz6m1vlS86eCrqqnuIgiJE/0kTvjr4cJOwUI3uwkGIoiIy1Q6g4cUVCRpveKynfr8vaxvPfRIy0zj8Xl89CPvKNtCLG//3qsFIW2CkOHXKwgZPfXmTb27JwiZQurNm3rzpt681etNIcik/Sc7SNv9fKP+cOzYsfJxJ/FZxWti/ghQtjOz+kR7eLKa6q7zxD909rLoNs92dhMMbBU8dAtCYr50SUsKPmLd6z1Kukmvrde4VRAS7d2CmTpBSN5GWa8gZPTUmzf17t4kBiHuEQLAVIuT+hjipD7XECQHcXlM6mkxChFQRKAR7xlBRIjLVWI6td997/2b4UT0Ctlsbw+9iPm63SA11ZqWFzeTBQAmhyAEgKmWLgvZqWcDw1O/P0gSAUMED0n0rih7X5wd/k1D470ioEg9PVKPjc11qNpTr41u88d8IYKM+pDWP14T9dV7eaR6O9+nftkQADB+ghAAplr0Bun13hgMR5z4d9PZHqHBdpeHDFK8T7x/t3XopT2tZwQa9aGucxn16fryYjwtDwAYP0EIAFMrQpCgN0h/4vOKa3V9bjtLIUZ9AACmmyAEABrI/VQAgKYShAAAAACNIQgBAAAAGkMQAgAAADSGIAQAAABoDEEIAAAA0BiCEAAAAKAxWk899dR6Nd6T8+fPFzMzM8Xc3FzVkjf15k29eVNv3qLeRx55pLjjjjuKd77zncW+ffuqZ/K03c83PoMLFy4Ud955Z9UyOLNrn28PT1ZToxP1tFqtYnZ2tmrJW1PqfXbmZcX6zFX2z0N08803FwcPHiwOHTpUtYyen2/e1Ju3YdQ7CfulTn33CFldXW3MQUlQb97Umzf15i3qXV/fyPKbcHCy3c83TqJz+wzW1tYa9X1uSr2tmVb5aP+cN/XmTb15a0q9raWlpb56hCwvLxcLCwuNScTUmzf15k29eYt6H3300eLo0aPFsWPHsu8Rst3P98iRI+VjfA6DNrP6RHsYfY+QlZWVYn5+vjEHn02pd3Xu2rJHiP3z8Bw4cKBYXFwsDh8+XLWMnp9v3tSbt2HUOwn7pU7uEQIAAAA0hiAEAAAAaAxBCAAAANAYghAAAACgMQQhAAAAQGMIQgAAdunU2ceKu+65v5q61Ktvels11pvbj763XB4AMByCEACAy9AZfOzfe3U1BgBMMkEIAJCdCCliSL0rPnVmo4dFZ3hR73mR5o8hSc/Xl5Wm77534z269d7onD+J9m7P3fOBXyl+8K13lc91SvOnGgCA3RGEAABZiYDhdHu49Q03Fre0h9uPvq+cDukxubsjeDh+55uLfddfsxlInDrzeBlC1JcVYnr/9VdXj9eUbTFviPlDLCu1JdFrJF4T75Gei/U989BvFz/5rlvL50+dvfiaWFa0xbJO3PfLVSsAsBuCEAAgKxEwRGgRIqS45dDG+E4ioIhQIoKHemBSX1aEH529PDpFkBHLCukxiWV0vkeEMW94/f9Yjqf3CPX3KcfX17v2GAEA+iMIAQAaLwKGGCJE6ezFMSgRZpSXxPS5/LRO0YskAhQAYHcEIQBAduphQ+flMEm9x0XME703Yhhk2FB/j+j5Eb1LOnuJRMBx9qHPVVMXpUtu0nqV61a1AQCXTxACAGQlAoMINqL3ReelJBE6pPZ6WLJV+3bSa+phR4hLcdKyIvxIl7rE/DHd+R6xvnGPkM2bpbZa1TOXrle39wIA+tdaWlpar8Z7sry8XCwsLBRzc3NVS97Umzf15k29eYt6H3300eLo0aPFsWPHin379lXP5Gm7n++RI0fKx/gcBm1m9Yn28GQ1NTorKyvF/Px8MTs7W7X0L0KD6EFRhgvFenHrG/7cxhMDlN5jt6LeRx79fPFN+19cteRpde7aYn3mKvvnITpw4ECxuLhYHD58uGoZPT/fvKk3b8OodxL2S530CAEAsjSKy0gG+R77qp4jAMBwCUIAgKzFPT/273VvDQBggyAEAMha9NoYRe8QAGA6CEIAAACAxhCEAAAAAI0hCAEAAAAaQxACAAAANIYgBAAAAGgMQQgAAADQGIIQAAAAoDEEIQAAAEBjCEIAAACAxhCEAAAAAI0hCAEAAAAaQxACAAAANIYgBAAAAGgMQQgATLm9e/cWp0+frqZ60+/8AAC5EIQAQMNECHLkyBFhCADQSIIQAMjEiRMnqrHRuuue+y8Zwqmzj5VD0jk9yW4/+t5qbPfS5wEATA5BCABMucOHD1dj43H67GPF/r1Xbw7h1JnHy6Ecbz9/9z33F/uvv6acbpL0eQAAk0MQAgAZWFxcLE6ePDm2XiERcqShU4Qgt7zhxmpqNFLvlOjdkXqixGNnW7JVe6e0jDR/XWrrbE/qz+/0PgDA8LSWlpbWq/GeLC8vFwsLC8Xc3FzVkjf1jsf58+eLp59+upoqipVnNjK7Z59tlY+DsrKyUlxxxRXFzEwzMkH1jsbznrdWzO25uGudn58vrrzyympqeJq4v3r00UeLo0ePFseOHSv27dtXPZOnXn6+EYJEGBLi84ibqG4l5ttpnvCKb3x+e/jqaqq7OLE/fuebq6kNcdIfordIhCD99gaJ7Te2ndnZ2aqldxEyRPhSX6fTZx9vr9Mvbbal9bu1vW6x/vva6xfj0R7r3FlP0jlviPEQ053tMZ56haR1ivXr/Dx2U+80WZ27tlifucrx1RAdOHCgDEbH2VPMzzdv6s3bMOqdhP1SJ0HIDtQ7HhGCpCDkmWdmNoOQQTu3cq594LmnmMn8wDNR7+hEEBKByJ72Y4QggpDBi3oFIc8VN0BNYcigboZ6/M7btg0yIhyoi5P9CADuvjcuh7l6Mzjox26CgRQ+1Nc51mW9fcRTDy1CzFcPTbqFKHWdoc+rb3pb8dGPvKOa2nh9XBKUwpT6usRrtwqFBCF5G2W9gpDRU2/e1Lt7kxiENOPXwkytpT+aHVoIAsN04dlW+f0ddC8m2EkEQhEMxfDAAw90HeK5sN08afiVX/q5bUOQJE7605DccujGcjpCiFFfCpLuT7KVCCcirOjUS611EfSECDxi2O5902cTgcioPw8A4CJnmEwsJ5HkIL7H0HTRoyR6WUySCCxS74xTZy+GF70EFKk3SV2EKtHbJIZ0KUw38X7xvpP2eQBAkwhCmFhCEHIRl3dBk8XJf1we0y1AGIYIIyKYiJ4XqadG9E4JqS2k3h/xXGrfqSdJEvPHZTFRV4jH7ZYRAUt6/vaj7xv5zWMBgIvcI2QH6h2P//7fnyl+93fOVVPD454ZeZuUep//gi8pXtAehq2J+yv3CLk8ce+QI0eO9PS5zaw+0R6erKZG59y5c8WePXsm7p4ZEWbEJS4RbPR7GU3Y6nXuEZK3UdbrHiGjp968qXf33CMEeqQ3CMDw5B4aDUIEFtF7oz7UL5u5nBAkXO7rAIDBEYQAQAPFjVAFIluLwCLd82Pz3h/tNpe0AMD0E4QAAPRIjw4AmH6CEMjcBz74/mrsotQWjw899KlyPEutoujrJkgAAED2BCHQAJ1hyMNV+HHdtfvLRwAAgKYQhEDDPPzwqWpsw3XXvaIa2whM0pB1TxEAAKCxBCGQude/7k3FB2s9Qj74z+4uXtduCw89fKoMPGL4y3/l28q26CUSPUbiOQAAgNwIQqABIvioXx5T7wUSIvT4sR/9mTI0iedSUJIDf4gZptP6ujv8AADDIQiBBoiAIzzyG6eLa6/t/ucy9QABAACaQBACDfIv/sXJ4rqXd79BarqBahCKAAAAuRKEQIO87GX7imu7/KWY6DESl8P88A9/fzlEKOIvygAAADkShEBDRNjx2r+6WE1tSPcECfH4Yz/27s2h8z4iU8ktBgAAgA6CEAAAAKAxBCEAAABAYwhCAAAAgMYQhAAAAACN0Xrqqaf6up3g+fPni5mZmWJubq5qyZt6x+O//cG54r/9ty9WUx3WB3cHzAurq0Wr/W92thmZ4ETU22pVI1uYtp/vTvW0ffVXX1F89fMXqqnhaeL+6pFHHinuuOOO4p3vfGexb9++6pk8jevnO7v2+fbwZDU1OhcuXGhvXrH9zlYteWtKvc/OvKxYn7lqx+/zQw89VFx33XXV1PQb5fZ78803FwcPHiwOHTpUtYxeE/8/Um++1Lt7k7Bf6tT32cFq+8SiKQclQb15W19ba9fbnI5R6s1bE/dX61Vw1oSDk6b9fNfK7Ve9uWnNbITH232fT58+XRw9erQMQ3LRxP2zevOl3rw1pd7W0tJSX79+XV5eLhYWFhqTiKl3PP7f/3el+IP2MGznVs4V8/N7ipmG7NzUOx7Pf8GXFC9oD8PWxP3Vo48+Wp4wHTt2LPseIeP6+c6sPtEetu8Rctc991djG259w43FqbOPleP7r7+mfOyc3snKykp7+50fy8HY7UffWxy/883VVO/iczjdrvOWdv291pmMs95RWp27tuwRst33OYKQI0eOZLVdj3L7PXDgQLG4uFgcPny4ahm9Jv5/pN58qXd3JnWf3pxflTJ19uzZYzBkM0DO4uR//96rN4dw6szj5VCOt5+/+577+w4HpknUGJ9DBCg51wkA/Th58mT5OGnBth4hO1DveDy9PFM88/Twc7qm/AYuUe94PO/KteLKL12rpoanifsrPUKGr5ceId16UKReItE7JJ7vt5fEbrff9P71HhoRVkQ4063XRr03R4Q2W/UIifmipiSWGcuJ9rvvvb+45dCNlzzfKz1CLtIjZHf0CBk99eZNvZfvxIkTZRAy7n1SN4KQHah3PAQhw6He8RCEDEfUKwgZvt0GId1Ch17sZvtNPVDq63T67OPtdfqlzba0fimo2ddevxhPgchWQcirb3pb8dGPvKOaulh7t/fsR1P2z++/78FivXVVeXPYsNX3OQ6cY5veu3dv1TLddqp3kCbhsxtlvZNAvXlT7+VJPUEmMQQJgpAdqHc8BCHDod7xEIQMR9QrCBm+XoOQuggDUg+J/ddfvRky9GM322+8d3mZTi18iXWJe+um9UhBSMxXDzB2CjQEIZcvPqPbj76vmgIgZxGAxLHZpB6fCUJ2oN7xEIQMh3rHQxAyHFGvIGT4BnFpTIQHx++8ra9eIbsNQkI9fOkMQlJw0e1SmG71JIKQ3XFpzPC3X5fGjJ5686bePLlZKgAwVBGCREgwSeJeIRfvHbJxU9cQgUav+pkXAJgcghAAYKgibIjLY1JPjWGLXh9xn4/orRHvGUPcxDSktpB6qMRzqT39pZut9DMvADCZXBqzA/WOh0tjhkO94/Hdr3912b07XSs5LE3cX7k0Zvh6uTRmGOyv8uTSmOFvvy6NGT315k29edIjBGDI/tprb9k8sI8hxoHJFpe9pN4kaXApDADkQRDC1Hr7j95+yfDwI6fK9n/2z+/aHA+d09Ms6uxX9EZgvBYXDxcPPPBA+Rs6gchgpT8TmXtvEEYvLpuJS2zqQz83e+XyxfYc+0zbNQDDIghhaj3yyKni7X/neDnEb9z/bhUSPPzIxZPLCEHCtS/fXz420Y+0Px8mQ3RTFogMzgc+8IHioYceqqYAAKA3ghCyEEHHyzvCjhSC/LXX3lo+ToJYp9SDJa1f6KV9p14t8Xzna0MERsm/+tA9xY/9vR/cfJ/6/IyOQGR3Tpw4UQ733Xdf+RvjuI8Aw7Pe+vJqDAAgD26WugP1jkcvN0uNSz5Sb4c42Y+eIGUPkfZJfmqL57frDTLKm9NtBBV3l+sYUggRAU6v7anGrcQ8EfzU36sMUtqP0Xb69CeK17/utrLeaL/25fsmKigatEm6WSqD97rXva647bbb7J9HYO78r1Zjo+NmqXm6MP+t5aPjq+Fxs9TRU2/e1JsnQcgO1DsevQYhcUlMkk7o0wl+Z5DQzaiDkAhnOoOHWN+oIwU2ab5Y/875U6ixlfR8fZn1tr/0P39PsW/vN5f1psBFEDJ8v/nZTxWf+c1PVVOXintcJHHguhvnzp0rt98miAN8++fRib8aE389ZpQEIflZb11VrO65thy3/Q6PIGT01Js39eZJELID9Y5Hr0HIL3zgo9XURfUQYKeT/VEeeHZblxR6hNSeenNEmBM627cLQtJ71HuOpCAknrvmmpcJQsbgeVeuFVd+6Vo1tSEu7UghSApAdnvQan+Vt3HXO/vsw0VrfamaGj5BSF7qIUiw/Q6PIGT01Js39ebJPULIWjrJTyf94xTrEkFGBBoxREARoudHBBepPeaJIKdz/hjfSXrNVj784XvL4CU+j16Wx+BFABIHqRGCxIFqOlgd5wEr9CJOYuNkFvrVGYIAwLjpEbID9Y5HLz1C4mS+W2+GCA1C/d4gW8076t/AxbqlHiAhrVO9PYKRzstkwkbIsVFHt2CnvqxQX0YaP3XqY8VnfvPhYmamVb5PqH9OuZmkHiHxMxt0D5BO9ld5m5R6W2tLI7lM5pn29nvFFe3td2ZA22+rPfR1xDNal9S71bpOeA2XaK9rCs7WZl9UPtbZfodHj5DRU2/e1JsnQcgO1DsevQQhgzCtXZFT2FHXS6Chq/l4pJulDisASeyv8qbevKk3b6OsVxAyeurNm3rz5NIYmEIRenQOTK6///d+yiUwAAAwIQQhAEO2d+8+AQgAAEwIQQgAAADQGIIQAAAAoDEEIQAAAEBjCEIAAACAxhCEAAAAAI0hCAEAAAAaQxACAAAANIYgBAAAAGgMQQgAAADQGIIQAAAAoDEEIQAAAEBjCEIAAACAxhCEAAAAAI0hCAEAAAAaQxACAAAANIYgBEbon/3zu8rh7T96e/mYPPzIqc32GJL6/DHU54vxpHMeAAAAuhOEwAj9s39+d/Hyl+8v3v53jlfTG2FItP+1195atl/78n2b7Q8/crp8vNh+cb6/+6MbgUmaN9r+2mtv2WwHAADguQQhMEIRglzbHuqiB0eEHEkEHRF4JDEdNl57cb6YDhGWxBC9QeqvAwAA4LkEITAmKcgYhOgNkoYfaQ8AAAB0JwiBMYseIhu9Ok6VQ1zqEpe49Cp6idTvH6JXCAAAwNYEITRaq9WqxkajfmlLBCCpV0j05AiPVDc6TZfD1AOR+vwhPRfzxnh6bVoWAAAAzyUIgRFKAUdSv19IjG+EGhfnqT8fOudPur0WAACA5xKEAAAAAI0hCGEizc+vV2MAAAAwOIIQJtKeEQUh6+sCF4ZPsAcAAJNDEMLEet6Va9UYTK8I9UYV7AEAADsThDCxrvzSNSeQTL0rBXoAADBRBCFMtK/4ylVhCFPL9xcAACZPa2lpqa+j9OXl5WJhYaGYm5urWvKm3snw7PlW8fTTg8/tVp55ppi/4opidna2asmbekdjz571skfTqNlf5U29eVNv3kZZ74EDB4rFxcXi8OHDVcvoNfXnu2fm6fZUa6PxEnG6NYj2Udh5nZ5+5uniivkrqp/vdNZwqe3bL6233TpzVfmYq6Zsv4KQHag3b+rNm3rzpt68qTdv6h0eQcjonfvCZ4ovmXuqMb9oOnfuXLFnz55G17veuqpYm31RlqFIU7Zfl8YAAABchtlnHy7m1j9fTdEUrfWlYvbCw8XM6hNVC9NGEAIAANCnCEHihJjmmll9UhgypQQhAAAAfWitLTU2BFlf7+vOCjCRBCEAAAB90AuAJHqFMH0EIQAAAHCZoocQ00UQAgAAADSGIAQAAAC6cE+UPLWeeuqpvn6y58+fL2ZmZhrzd8HVmzf15k29eVNv3tSbN/UOz80331wcPHiwOHToUNUyek34+e5Ze7Rorf1ROb66ulq0Wq2y5ia4cOFCWe/s7GzVkreoN3622/18n515WbE+c1U1Nd2asn/ue2uNDb0pX/qg3rypN2/qzZt686bevKk3b02od319rRrbqDfHEOTw9/5E8e5/8ovV1EW3vuUni3/8/n9bTeVvbW1tx59va6ZVjU2/puyvWktLS331CFleXi4WFhYak+CrN2/qzZt686bevKk3b+odngMHDhSLi4vF4cOHq5bRa8LPd/bZhzf/fO65c+eKPXv2ZHfyePDWdxUf/+SjxWfP3l21FMXHH3y0OPimdxU/8L3fWfzg9//lqjVvKysrxfz8/LY/39W5a7PpEdKU/XMz+m8BAADQlxte+dLi+Hs+VE0V7fEPF696xZ+ppmL6Q2Vgkoak3hbhCUwaQQgAAADPcftbXlOGHyEFGq98xTeUj+Fj7bb77nprOdzwqpeUwUjM982vfMlmO0wiQQgAAABdRRjyUz+70SskxpMIPD7xyU/Xen58umy/4VUvLR78tYvtMIkEIQAAAHQVl8eE6BkSIUcS4/WeH2WvkPa8EZD8wPe9ZmP6VS8p7zMCk0YQAgAAQFcReETPj26+9ZtfVvb6iEti0r1EYv6ffs+HL05XQQpMEkEIAAAAl4jLYFIPkBhP9/t41Td9Q/E3v+87y/G/+X2v2ZjvlS9tP37XJfNHWzlUbTBJBCEAAABcoh5g1MfrfzUmxHOdYUdq62yHSSEIAQAAABpDEAIAAAA0hiAEAAAAaAxBCAAAANAYghAAAACgMQQhAAAAQGMIQgAAAIDGEIQAAAAAjSEIAQAAABpDEAIAAAA0hiAEAAAAaAxBCAAAANAYghAAAACgMQQhAAAAPTpx4kRx6uzj1RQwjQQhAACQiX379lVjDFoEIDGcPHmyOPFz/7JqBaaRIAQAADKxd+/e8kSdwakHIDEsLi4WP/Xjf6t6dmcfe/DR4uO1oW6n6Zwcf8+HqjEYP0EIAABkJk7c2Z1uAcgDDzxQHD58uJqjNz/9ng8XH//ko+VwvD1+8NZ3bbT/4432EAHIi6+/pRzP1ccf/HQ1BuMnCAEAgEzESXpcHhMn7sKQyzOoAKTu9rd8Vzncd9dbixte9ZLn9PyIgOS+98dzL61aJlOs94Of+kzxiU9eGmpEexrqtmrfSrf5u72+W1uItuiBAztpLS0trVfjPVleXi4WFhaKubm5qiVv6s2bevOm3rypN2/qzZt6h+/IkSPF6dOnN+8ZEpfMjMqFCxfKx2n9+Ub4kUQI0s0rvvH57eGry/Fz584Ve/bsKWZnZ8vpTtEDJAKQJKZvf8trik/82qeL9fX19sn7p8vpSQ9B0qUtzz57ofi1058tvqW9vhHu1C95iVoi6OnWHuqfQ6cIMQ6+aeOzSfPHskK35d7wypeWAVLMH2I85omQ5ptfuTHvIKysrBTz8/Nb/nzD6ty1xfrMVdXUdGvK/lkQsgP15k29eVNv3tSbN/XmTb2jEUFInNTHI4O1//qri+N3vrkc7yUISeJSmDhxj5P0uDTmp372Q+UJfTrJn2Rx6c5nz969GQy8+5/8YvEtr3pZWUM94EjzpcekMxDqFEFI2TOmmicFRhEQ7RR+RHt8thuf5WADJUFIngQhO1Bv3tSbN/XmTb15U2/e1Ju3aa63Hh5Fb5roEdLtL/HMPvtw0VpfKsf77RGSRBDysU88Wj6XTvQnOQxJddSDgeh98bEHf+OS9U7zdda91eeQdAtC0ng8l4KOFH7Uxfun19fDpkEQhOTJPUIAAADaIvQ4duxYOYS4xChdZjQM6YQ+TtrLk/j2yfykSjd2TSK8iUtQYr2T+vp3zj8I0dtjI+jYuOdKBCMhBSURnPz8Xf972QbbEYQAAADUjDoQCXGz1HqoMGli/aKXxq1v+cniJftv2wwhovdFtJdDdY+PEPPH5THpuUHpfL90OUzcRyTa/vqt/2Bz3WArLo3ZgXrzpt68qTdv6s2bevOm3rzlWG/nJTO3HLqx55ul5qaXS0W2Ez1J0s1Qkwg3JvVmsS6NyZMgZAfqzZt686bevKk3b+rNm3rzlnO99UDkox95R9kmCMmbICRPLo0BAADoQbpk5j/9+5+pWoBpJAgBAAAAGkMQAgAAADSGIAQAAABoDEEIAAAA0BiCEAAAAKAxBCEAAABAYwhCAAAAgMYQhAAAANCTVqtVjcH0EoQAAAAAjSEIAQAAABpDEAIAAAA0hiAEAACAnqyvr1djML0EIQAAAEBjCEIAAACAxhCEAAAAAI0hCAEAAGDXPv7go+Xjx9qPaTyJ6W5t6bHbeN1W7XA5BCEAAADsSoQUB9/0ruL4ez5UfOKTG+NJtH283RbDwVvftRloHH/PhzcCjmr+8rn2eLTHa0I8n15fb4fdEIQAAACwaze88qXF7W/5rmp4zUaAEUHHg5/ebL/vrreWgUZyw6vSa17THn/Jc+aJx1juxrJjmRdfC5dLEAIAAMBQRE+OCDjqoq1XMW99iDAEdksQAgAAwFBET4666CHS2badsqdIracJDIIgBAAAgKGIS19C3P8j3QMkLn3pVYQfcTlMej0MQmtpaWm9Gu/J8vJysbCwUMzNzVUteVNv3tSbN/XmTb15U2/e1Ju3JtQ7++zDRWt9qRw/d+5csWfPnmJ2draczt3KykoxPz+v3prVuWuL9Zmrqqnp1pT9lR4hAAAAQGMIQgAAAIDGaD311FN9XRpz/vz5YmZmpjFd+9SbN/XmTb15U2/e1Js39eatCfXuWXu0aK39UTm+urpatFqtsuYmuHDhQllvUy6NiXrjZ7vdz/fZmZdlc2lMU/ZXfW+tsaE35Usf1Js39eZNvXlTb97Umzf15q0J9a6vr1VjG/U2JQQJa2trjfo+R707/XxbM61qbPo1ZX/lZqk7UG/e1Js39eZNvXlTb97Um7cm1OtmqW6WWudmqdOnOdElAAAA0HiCEAAAAKAxBCEAAABAYwhCAAAAgMYQhAAAAACNIQgBAAAAGkMQAgAAADSGIAQAAABoDEEIAAAA0BiCEAAAAKAxBCEAAABAYwhCAAAAgMYQhAAAADTcqbOPVWOQP0EIAABApiLg6BZy1NvKec48Xk1dtFU4cvps7/Nu1Q7jJAgBAADI0O1H31sGHHffc39xV3sI8RhDtKe2eP702cc2pyO8SPO8+qa3lW0h2u75wK8Up3/94mvTvLGMeL8k2tIy6u0wCVpLS0vr1XhPlpeXi4WFhWJubq5qyZt686bevKk3b+rNm3rzpt68NaHe2WcfLlrrS+X4uXPnij179hSzs7Pl9KRIPTH2X39N+RiBxkc/8o4ylLjlDTdutocUatzabu+08dx6+7k/V772XT96qJifn+9ab8y7f+/VRav97657fqk4fuebN9tDt+VPupWVlS3rTVbnri3WZ66qpqZbU/ZXeoQAAABkJnpopF4fZUBx/dVle4QgqffGVpetpNfEED1FwnbzxrLq84Z9taAlApD6czBughAAAIDMpCAiQogYUu+M6AkS4xGI3H70fWVbpwgt0uvScuo9SJK4V0jMG8uLebeyVYgC4yIIAQAAyFCEFCmE6HyMYCN6icR0XM5Sd+rs42V7DJ29POIeISEtJ4keIcm+9nIvee8zj5fBC0wK9wjZgXrzpt68qTdv6s2bevOm3rw1od5puEdIKMOMMxf/wkv02ujWFlJ7CkXSPOk1qUfIxx58tHj4N54oWq2Z5ywvvTbNWw9HtusxMsncIyRPgpAdqDdv6s2bevOm3rypN2/qzVsT6p2WIGQYegkGciIIyZNLYwAAAIDGEIQAAAAAjSEIAQAAABpDEAIAANCHXO4HAU0lCAEAAOjDeuvLqzGabr11lWBsCglCAAAA+hAnvmuzL6ymaLK12RdVY0wTQQgAAECf4gQ4egPQXBGG6Q0ynQQhAAAAl2F1z7XFhdafaNTJcKvVqsaaoVu9EYBsDHqDTKvW0tLSejXek+Xl5WJhYaGYm5urWvKm3rypN2/qzZt686bevKk3b02td8/MM1VL3p5+5uniivkrGvPz7aw399CrKduvIGQH6s2bevOm3rypN2/qzZt686bevKk3b02p16UxAAAAQGMIQgAAAIDGEIQAAAAAjSEIAQAAABpDEAIAAAA0hiAEAAAAaAxBCAAAANAYghAAAACgMQQhAAAAQGMIQgAAAIDGEIQAAAAAjSEIAQAAABpDEAIAAAA0hiAEAAAAaAxBCAAAANAYghAAAACgMQQhAAAAQGMIQgAAAIDGEIQAAAAAjSEIAQAAABpDEAIAAAA0hiAEAAAAaAxBCAAAANAYghAAAACgMQQhAAAAQGMIQgAAAIDGaD311FPr1XhPzp8/X8zMzBRzc3NVS97Umzf15k29eVNv3tSbN/XmTb15U2/emlJv3z1CVldXi9nZ2Woqf+rNm3rzpt68qTdv6s2bevOm3rypN29Nqbe1tLTUV4+Q5eXlYmFhoTGJmHrzpt68qTdv6s2bevOm3rypN2/qzVsz6i2K/x9jtw5o0X8XTQAAAA5lWElmTU0AKgAAAAgAAAAAAAAA0lOTAAAAAElFTkSuQmCC)"
   ]
  },
  {
   "cell_type": "markdown",
   "metadata": {},
   "source": [
    "## CONSULTAS"
   ]
  },
  {
   "cell_type": "markdown",
   "metadata": {},
   "source": [
    "* **2\tconsultas\tenvolvendo\tas\toperações\tde\tseleção\te\tprojeção**\n",
    "\n",
    "*1-seleciona os meses em que a estação do ano é verão*"
   ]
  },
  {
   "cell_type": "code",
   "execution_count": 64,
   "metadata": {},
   "outputs": [
    {
     "data": {
      "text/html": [
       "<div>\n",
       "<style scoped>\n",
       "    .dataframe tbody tr th:only-of-type {\n",
       "        vertical-align: middle;\n",
       "    }\n",
       "\n",
       "    .dataframe tbody tr th {\n",
       "        vertical-align: top;\n",
       "    }\n",
       "\n",
       "    .dataframe thead th {\n",
       "        text-align: right;\n",
       "    }\n",
       "</style>\n",
       "<table border=\"1\" class=\"dataframe\">\n",
       "  <thead>\n",
       "    <tr style=\"text-align: right;\">\n",
       "      <th></th>\n",
       "      <th>nome</th>\n",
       "    </tr>\n",
       "  </thead>\n",
       "  <tbody>\n",
       "    <tr>\n",
       "      <th>0</th>\n",
       "      <td>Janeiro</td>\n",
       "    </tr>\n",
       "    <tr>\n",
       "      <th>1</th>\n",
       "      <td>Fevereiro</td>\n",
       "    </tr>\n",
       "    <tr>\n",
       "      <th>2</th>\n",
       "      <td>Marco</td>\n",
       "    </tr>\n",
       "  </tbody>\n",
       "</table>\n",
       "</div>"
      ],
      "text/plain": [
       "        nome\n",
       "0    Janeiro\n",
       "1  Fevereiro\n",
       "2      Marco"
      ]
     },
     "execution_count": 64,
     "metadata": {},
     "output_type": "execute_result"
    }
   ],
   "source": [
    "query=\"\"\"\n",
    "SELECT \n",
    "\tnome\n",
    "FROM\n",
    "\tMes\n",
    "WHERE\n",
    "\testacao = 'Verao'\n",
    "\"\"\"\n",
    "df = pd.read_sql_query(query,conn)\n",
    "df"
   ]
  },
  {
   "cell_type": "markdown",
   "metadata": {},
   "source": [
    "*2-seleciona os continentes que estão situados no hemisfério norte*"
   ]
  },
  {
   "cell_type": "code",
   "execution_count": 67,
   "metadata": {},
   "outputs": [
    {
     "data": {
      "text/html": [
       "<div>\n",
       "<style scoped>\n",
       "    .dataframe tbody tr th:only-of-type {\n",
       "        vertical-align: middle;\n",
       "    }\n",
       "\n",
       "    .dataframe tbody tr th {\n",
       "        vertical-align: top;\n",
       "    }\n",
       "\n",
       "    .dataframe thead th {\n",
       "        text-align: right;\n",
       "    }\n",
       "</style>\n",
       "<table border=\"1\" class=\"dataframe\">\n",
       "  <thead>\n",
       "    <tr style=\"text-align: right;\">\n",
       "      <th></th>\n",
       "      <th>nome</th>\n",
       "    </tr>\n",
       "  </thead>\n",
       "  <tbody>\n",
       "    <tr>\n",
       "      <th>0</th>\n",
       "      <td>Asia</td>\n",
       "    </tr>\n",
       "    <tr>\n",
       "      <th>1</th>\n",
       "      <td>Europa</td>\n",
       "    </tr>\n",
       "    <tr>\n",
       "      <th>2</th>\n",
       "      <td>America do Norte</td>\n",
       "    </tr>\n",
       "    <tr>\n",
       "      <th>3</th>\n",
       "      <td>America Central e Caribe</td>\n",
       "    </tr>\n",
       "  </tbody>\n",
       "</table>\n",
       "</div>"
      ],
      "text/plain": [
       "                       nome\n",
       "0                      Asia\n",
       "1                    Europa\n",
       "2          America do Norte\n",
       "3  America Central e Caribe"
      ]
     },
     "execution_count": 67,
     "metadata": {},
     "output_type": "execute_result"
    }
   ],
   "source": [
    "query=\"\"\"\n",
    "SELECT\n",
    "\tnome\n",
    "FROM\n",
    "\tContinente\n",
    "WHERE\n",
    "\themisferio = 'Norte'\n",
    "\"\"\"\n",
    "df = pd.read_sql_query(query,conn)\n",
    "df"
   ]
  },
  {
   "cell_type": "markdown",
   "metadata": {},
   "source": [
    "* **3\tconsultas\tenvolvendo\ta\tjunção\tde\tduas\trelações;**"
   ]
  },
  {
   "cell_type": "markdown",
   "metadata": {},
   "source": [
    "*3-seleciona o nome do país e do continente dos países que compõe o hemisfério norte*\n",
    "\t"
   ]
  },
  {
   "cell_type": "code",
   "execution_count": 71,
   "metadata": {},
   "outputs": [
    {
     "data": {
      "text/html": [
       "<div>\n",
       "<style scoped>\n",
       "    .dataframe tbody tr th:only-of-type {\n",
       "        vertical-align: middle;\n",
       "    }\n",
       "\n",
       "    .dataframe tbody tr th {\n",
       "        vertical-align: top;\n",
       "    }\n",
       "\n",
       "    .dataframe thead th {\n",
       "        text-align: right;\n",
       "    }\n",
       "</style>\n",
       "<table border=\"1\" class=\"dataframe\">\n",
       "  <thead>\n",
       "    <tr style=\"text-align: right;\">\n",
       "      <th></th>\n",
       "      <th>nome</th>\n",
       "      <th>nome</th>\n",
       "    </tr>\n",
       "  </thead>\n",
       "  <tbody>\n",
       "    <tr>\n",
       "      <th>0</th>\n",
       "      <td>Cuba</td>\n",
       "      <td>America Central e Caribe</td>\n",
       "    </tr>\n",
       "    <tr>\n",
       "      <th>1</th>\n",
       "      <td>Honduras</td>\n",
       "      <td>America Central e Caribe</td>\n",
       "    </tr>\n",
       "    <tr>\n",
       "      <th>2</th>\n",
       "      <td>Outros paises</td>\n",
       "      <td>America Central e Caribe</td>\n",
       "    </tr>\n",
       "    <tr>\n",
       "      <th>3</th>\n",
       "      <td>Costa Rica</td>\n",
       "      <td>America Central e Caribe</td>\n",
       "    </tr>\n",
       "    <tr>\n",
       "      <th>4</th>\n",
       "      <td>El Salvador</td>\n",
       "      <td>America Central e Caribe</td>\n",
       "    </tr>\n",
       "    <tr>\n",
       "      <th>...</th>\n",
       "      <td>...</td>\n",
       "      <td>...</td>\n",
       "    </tr>\n",
       "    <tr>\n",
       "      <th>61</th>\n",
       "      <td>Croacia</td>\n",
       "      <td>Europa</td>\n",
       "    </tr>\n",
       "    <tr>\n",
       "      <th>62</th>\n",
       "      <td>Estonia</td>\n",
       "      <td>Europa</td>\n",
       "    </tr>\n",
       "    <tr>\n",
       "      <th>63</th>\n",
       "      <td>Letonia</td>\n",
       "      <td>Europa</td>\n",
       "    </tr>\n",
       "    <tr>\n",
       "      <th>64</th>\n",
       "      <td>Turquia</td>\n",
       "      <td>Europa</td>\n",
       "    </tr>\n",
       "    <tr>\n",
       "      <th>65</th>\n",
       "      <td>Luxemburgo</td>\n",
       "      <td>Europa</td>\n",
       "    </tr>\n",
       "  </tbody>\n",
       "</table>\n",
       "<p>66 rows × 2 columns</p>\n",
       "</div>"
      ],
      "text/plain": [
       "             nome                      nome\n",
       "0            Cuba  America Central e Caribe\n",
       "1        Honduras  America Central e Caribe\n",
       "2   Outros paises  America Central e Caribe\n",
       "3      Costa Rica  America Central e Caribe\n",
       "4     El Salvador  America Central e Caribe\n",
       "..            ...                       ...\n",
       "61        Croacia                    Europa\n",
       "62        Estonia                    Europa\n",
       "63        Letonia                    Europa\n",
       "64        Turquia                    Europa\n",
       "65     Luxemburgo                    Europa\n",
       "\n",
       "[66 rows x 2 columns]"
      ]
     },
     "execution_count": 71,
     "metadata": {},
     "output_type": "execute_result"
    }
   ],
   "source": [
    "query=\"\"\"\n",
    "SELECT DISTINCT\n",
    "\n",
    "\t\tp.nome, c.nome\n",
    "\tFROM\n",
    "\t\tPais as p\n",
    "\tJOIN\n",
    "\t\tContinente as c ON p.cod_continente = c.cod_continente\n",
    "\tWHERE\n",
    "\t\tc.hemisferio = 'Norte'\n",
    "    ORDER BY c.nome\n",
    "        \"\"\"\n",
    "df = pd.read_sql_query(query,conn)\n",
    "df"
   ]
  },
  {
   "cell_type": "markdown",
   "metadata": {},
   "source": [
    "*4-seleciona o nome das unidades federativas em que mais de 10000 turistas chegaram no ano*\n",
    "\t"
   ]
  },
  {
   "cell_type": "code",
   "execution_count": 74,
   "metadata": {},
   "outputs": [
    {
     "data": {
      "text/html": [
       "<div>\n",
       "<style scoped>\n",
       "    .dataframe tbody tr th:only-of-type {\n",
       "        vertical-align: middle;\n",
       "    }\n",
       "\n",
       "    .dataframe tbody tr th {\n",
       "        vertical-align: top;\n",
       "    }\n",
       "\n",
       "    .dataframe thead th {\n",
       "        text-align: right;\n",
       "    }\n",
       "</style>\n",
       "<table border=\"1\" class=\"dataframe\">\n",
       "  <thead>\n",
       "    <tr style=\"text-align: right;\">\n",
       "      <th></th>\n",
       "      <th>nome</th>\n",
       "    </tr>\n",
       "  </thead>\n",
       "  <tbody>\n",
       "    <tr>\n",
       "      <th>0</th>\n",
       "      <td>Rio de Janeiro</td>\n",
       "    </tr>\n",
       "    <tr>\n",
       "      <th>1</th>\n",
       "      <td>Santa Catarina</td>\n",
       "    </tr>\n",
       "    <tr>\n",
       "      <th>2</th>\n",
       "      <td>S�o Paulo</td>\n",
       "    </tr>\n",
       "    <tr>\n",
       "      <th>3</th>\n",
       "      <td>Mato Grosso do Sul</td>\n",
       "    </tr>\n",
       "    <tr>\n",
       "      <th>4</th>\n",
       "      <td>Paran�</td>\n",
       "    </tr>\n",
       "    <tr>\n",
       "      <th>5</th>\n",
       "      <td>Rio Grande do Sul</td>\n",
       "    </tr>\n",
       "  </tbody>\n",
       "</table>\n",
       "</div>"
      ],
      "text/plain": [
       "                 nome\n",
       "0      Rio de Janeiro\n",
       "1      Santa Catarina\n",
       "2           S�o Paulo\n",
       "3  Mato Grosso do Sul\n",
       "4              Paran�\n",
       "5   Rio Grande do Sul"
      ]
     },
     "execution_count": 74,
     "metadata": {},
     "output_type": "execute_result"
    }
   ],
   "source": [
    "query=\"\"\"\n",
    "SELECT DISTINCT\n",
    "\t\tuf.nome\n",
    "\tFROM\n",
    "\t\tUnidade_Federativa as uf\n",
    "\tJOIN\n",
    "\t\tChegada as c ON  uf.cod_uf = c.cod_uf\n",
    "\tWHERE\n",
    "\t\tc.quantidade > 10000\n",
    "        \"\"\"\n",
    "df = pd.read_sql_query(query,conn)\n",
    "df"
   ]
  },
  {
   "cell_type": "markdown",
   "metadata": {},
   "source": [
    "*5-seleciona o nome das vias (meio de chegada) em que mais de 30000 chegadas foram realizadas*"
   ]
  },
  {
   "cell_type": "code",
   "execution_count": 77,
   "metadata": {},
   "outputs": [
    {
     "data": {
      "text/html": [
       "<div>\n",
       "<style scoped>\n",
       "    .dataframe tbody tr th:only-of-type {\n",
       "        vertical-align: middle;\n",
       "    }\n",
       "\n",
       "    .dataframe tbody tr th {\n",
       "        vertical-align: top;\n",
       "    }\n",
       "\n",
       "    .dataframe thead th {\n",
       "        text-align: right;\n",
       "    }\n",
       "</style>\n",
       "<table border=\"1\" class=\"dataframe\">\n",
       "  <thead>\n",
       "    <tr style=\"text-align: right;\">\n",
       "      <th></th>\n",
       "      <th>nome</th>\n",
       "    </tr>\n",
       "  </thead>\n",
       "  <tbody>\n",
       "    <tr>\n",
       "      <th>0</th>\n",
       "      <td>Aereo</td>\n",
       "    </tr>\n",
       "    <tr>\n",
       "      <th>1</th>\n",
       "      <td>Terrestre</td>\n",
       "    </tr>\n",
       "  </tbody>\n",
       "</table>\n",
       "</div>"
      ],
      "text/plain": [
       "        nome\n",
       "0      Aereo\n",
       "1  Terrestre"
      ]
     },
     "execution_count": 77,
     "metadata": {},
     "output_type": "execute_result"
    }
   ],
   "source": [
    "query=\"\"\"\n",
    "SELECT DISTINCT\n",
    "\t\tv.nome\n",
    "\tFROM\n",
    "\t\tVia as v\n",
    "\tJOIN\n",
    "\t\tChegada as c ON v.cod_via = c.cod_via\n",
    "\tWHERE\n",
    "\t\tc.quantidade > 30000\n",
    "\"\"\"\n",
    "df = pd.read_sql_query(query,conn)\n",
    "df"
   ]
  },
  {
   "cell_type": "markdown",
   "metadata": {},
   "source": [
    "* **3\tconsultas\tenvolvendo\ta\tjunção\tde\ttrês\tou\tmais\trelações**"
   ]
  },
  {
   "cell_type": "markdown",
   "metadata": {},
   "source": [
    "*6-o mes e a quantidade de turistas que chegaram via terreste\n",
    "\t\t--hipotese: 4/11 teve final da libertadores boca x flu, por isso muitos turistas (argentinos) nessa data*"
   ]
  },
  {
   "cell_type": "code",
   "execution_count": 81,
   "metadata": {},
   "outputs": [
    {
     "data": {
      "text/html": [
       "<div>\n",
       "<style scoped>\n",
       "    .dataframe tbody tr th:only-of-type {\n",
       "        vertical-align: middle;\n",
       "    }\n",
       "\n",
       "    .dataframe tbody tr th {\n",
       "        vertical-align: top;\n",
       "    }\n",
       "\n",
       "    .dataframe thead th {\n",
       "        text-align: right;\n",
       "    }\n",
       "</style>\n",
       "<table border=\"1\" class=\"dataframe\">\n",
       "  <thead>\n",
       "    <tr style=\"text-align: right;\">\n",
       "      <th></th>\n",
       "      <th>nome</th>\n",
       "      <th>qtd</th>\n",
       "    </tr>\n",
       "  </thead>\n",
       "  <tbody>\n",
       "    <tr>\n",
       "      <th>0</th>\n",
       "      <td>Novembro</td>\n",
       "      <td>1402</td>\n",
       "    </tr>\n",
       "    <tr>\n",
       "      <th>1</th>\n",
       "      <td>Outubro</td>\n",
       "      <td>1378</td>\n",
       "    </tr>\n",
       "    <tr>\n",
       "      <th>2</th>\n",
       "      <td>Dezembro</td>\n",
       "      <td>1316</td>\n",
       "    </tr>\n",
       "    <tr>\n",
       "      <th>3</th>\n",
       "      <td>Abril</td>\n",
       "      <td>829</td>\n",
       "    </tr>\n",
       "    <tr>\n",
       "      <th>4</th>\n",
       "      <td>Agosto</td>\n",
       "      <td>816</td>\n",
       "    </tr>\n",
       "    <tr>\n",
       "      <th>5</th>\n",
       "      <td>Julho</td>\n",
       "      <td>803</td>\n",
       "    </tr>\n",
       "    <tr>\n",
       "      <th>6</th>\n",
       "      <td>Setembro</td>\n",
       "      <td>792</td>\n",
       "    </tr>\n",
       "    <tr>\n",
       "      <th>7</th>\n",
       "      <td>Maio</td>\n",
       "      <td>790</td>\n",
       "    </tr>\n",
       "    <tr>\n",
       "      <th>8</th>\n",
       "      <td>Junho</td>\n",
       "      <td>770</td>\n",
       "    </tr>\n",
       "    <tr>\n",
       "      <th>9</th>\n",
       "      <td>Janeiro</td>\n",
       "      <td>762</td>\n",
       "    </tr>\n",
       "    <tr>\n",
       "      <th>10</th>\n",
       "      <td>Fevereiro</td>\n",
       "      <td>680</td>\n",
       "    </tr>\n",
       "    <tr>\n",
       "      <th>11</th>\n",
       "      <td>Marco</td>\n",
       "      <td>679</td>\n",
       "    </tr>\n",
       "  </tbody>\n",
       "</table>\n",
       "</div>"
      ],
      "text/plain": [
       "         nome   qtd\n",
       "0    Novembro  1402\n",
       "1     Outubro  1378\n",
       "2    Dezembro  1316\n",
       "3       Abril   829\n",
       "4      Agosto   816\n",
       "5       Julho   803\n",
       "6    Setembro   792\n",
       "7        Maio   790\n",
       "8       Junho   770\n",
       "9     Janeiro   762\n",
       "10  Fevereiro   680\n",
       "11      Marco   679"
      ]
     },
     "execution_count": 81,
     "metadata": {},
     "output_type": "execute_result"
    }
   ],
   "source": [
    "query=\"\"\"\n",
    "SELECT DISTINCT\n",
    " \n",
    "\t\t\tm.nome,\n",
    "\t\t\tCOUNT(c.quantidade) as qtd\n",
    "\t\tFROM\n",
    "\t\t\tMes as m\n",
    "\t\tJOIN\n",
    "\t\t\tChegada as c ON m.cod_mes = c.cod_mes\n",
    "\t\tJOIN\n",
    "\t\t\tVia as v ON c.cod_via = v.cod_via\n",
    "\t\tWHERE\n",
    "\t\t\tv.nome = 'Terrestre'\n",
    "\t\tGROUP BY\n",
    "\t\t\tm.nome\n",
    "\t\tORDER BY\n",
    "\t\t\tqtd DESC\n",
    "\"\"\"\n",
    "df = pd.read_sql_query(query,conn)\n",
    "df"
   ]
  },
  {
   "cell_type": "markdown",
   "metadata": {},
   "source": [
    "*Essa consulta prova nossa hipotese sobre a final da liberta*"
   ]
  },
  {
   "cell_type": "code",
   "execution_count": 84,
   "metadata": {},
   "outputs": [
    {
     "data": {
      "text/html": [
       "<div>\n",
       "<style scoped>\n",
       "    .dataframe tbody tr th:only-of-type {\n",
       "        vertical-align: middle;\n",
       "    }\n",
       "\n",
       "    .dataframe tbody tr th {\n",
       "        vertical-align: top;\n",
       "    }\n",
       "\n",
       "    .dataframe thead th {\n",
       "        text-align: right;\n",
       "    }\n",
       "</style>\n",
       "<table border=\"1\" class=\"dataframe\">\n",
       "  <thead>\n",
       "    <tr style=\"text-align: right;\">\n",
       "      <th></th>\n",
       "      <th>nome</th>\n",
       "      <th>qtd</th>\n",
       "      <th>nome</th>\n",
       "    </tr>\n",
       "  </thead>\n",
       "  <tbody>\n",
       "    <tr>\n",
       "      <th>0</th>\n",
       "      <td>Novembro</td>\n",
       "      <td>122</td>\n",
       "      <td>Outros paises</td>\n",
       "    </tr>\n",
       "    <tr>\n",
       "      <th>1</th>\n",
       "      <td>Outubro</td>\n",
       "      <td>106</td>\n",
       "      <td>Outros paises</td>\n",
       "    </tr>\n",
       "    <tr>\n",
       "      <th>2</th>\n",
       "      <td>Dezembro</td>\n",
       "      <td>103</td>\n",
       "      <td>Outros paises</td>\n",
       "    </tr>\n",
       "    <tr>\n",
       "      <th>3</th>\n",
       "      <td>Setembro</td>\n",
       "      <td>84</td>\n",
       "      <td>Outros paises</td>\n",
       "    </tr>\n",
       "    <tr>\n",
       "      <th>4</th>\n",
       "      <td>Agosto</td>\n",
       "      <td>73</td>\n",
       "      <td>Outros paises</td>\n",
       "    </tr>\n",
       "    <tr>\n",
       "      <th>5</th>\n",
       "      <td>Maio</td>\n",
       "      <td>66</td>\n",
       "      <td>Outros paises</td>\n",
       "    </tr>\n",
       "    <tr>\n",
       "      <th>6</th>\n",
       "      <td>Janeiro</td>\n",
       "      <td>65</td>\n",
       "      <td>Outros paises</td>\n",
       "    </tr>\n",
       "    <tr>\n",
       "      <th>7</th>\n",
       "      <td>Abril</td>\n",
       "      <td>64</td>\n",
       "      <td>Outros paises</td>\n",
       "    </tr>\n",
       "    <tr>\n",
       "      <th>8</th>\n",
       "      <td>Julho</td>\n",
       "      <td>63</td>\n",
       "      <td>Outros paises</td>\n",
       "    </tr>\n",
       "    <tr>\n",
       "      <th>9</th>\n",
       "      <td>Junho</td>\n",
       "      <td>59</td>\n",
       "      <td>Outros paises</td>\n",
       "    </tr>\n",
       "    <tr>\n",
       "      <th>10</th>\n",
       "      <td>Fevereiro</td>\n",
       "      <td>47</td>\n",
       "      <td>Outros paises</td>\n",
       "    </tr>\n",
       "    <tr>\n",
       "      <th>11</th>\n",
       "      <td>Marco</td>\n",
       "      <td>47</td>\n",
       "      <td>Outros paises</td>\n",
       "    </tr>\n",
       "    <tr>\n",
       "      <th>12</th>\n",
       "      <td>Novembro</td>\n",
       "      <td>47</td>\n",
       "      <td>Argentina</td>\n",
       "    </tr>\n",
       "    <tr>\n",
       "      <th>13</th>\n",
       "      <td>Outubro</td>\n",
       "      <td>45</td>\n",
       "      <td>Argentina</td>\n",
       "    </tr>\n",
       "    <tr>\n",
       "      <th>14</th>\n",
       "      <td>Dezembro</td>\n",
       "      <td>44</td>\n",
       "      <td>Argentina</td>\n",
       "    </tr>\n",
       "  </tbody>\n",
       "</table>\n",
       "</div>"
      ],
      "text/plain": [
       "         nome  qtd           nome\n",
       "0    Novembro  122  Outros paises\n",
       "1     Outubro  106  Outros paises\n",
       "2    Dezembro  103  Outros paises\n",
       "3    Setembro   84  Outros paises\n",
       "4      Agosto   73  Outros paises\n",
       "5        Maio   66  Outros paises\n",
       "6     Janeiro   65  Outros paises\n",
       "7       Abril   64  Outros paises\n",
       "8       Julho   63  Outros paises\n",
       "9       Junho   59  Outros paises\n",
       "10  Fevereiro   47  Outros paises\n",
       "11      Marco   47  Outros paises\n",
       "12   Novembro   47      Argentina\n",
       "13    Outubro   45      Argentina\n",
       "14   Dezembro   44      Argentina"
      ]
     },
     "execution_count": 84,
     "metadata": {},
     "output_type": "execute_result"
    }
   ],
   "source": [
    "query=\"\"\"\n",
    "    SELECT DISTINCT\n",
    " \n",
    "\t\tm.nome,\n",
    "\t\tCOUNT(c.quantidade) as qtd,\n",
    "\t\tp.nome\n",
    "\tFROM\n",
    "\t\tMes as m\n",
    "\tJOIN\n",
    "\t\t\tChegada as c ON m.cod_mes = c.cod_mes\n",
    "\tJOIN\n",
    "\t\tVia as v ON c.cod_via = v.cod_via\n",
    "\tJOIN\n",
    "\t\tPais as p ON c.cod_pais = p.cod_pais\n",
    "\tWHERE\n",
    "\t\t\tv.nome = 'Terrestre'\n",
    "\tGROUP BY\n",
    "\t\t\tm.nome, p.nome\n",
    "\tORDER BY\n",
    "\t\tqtd DESC\n",
    "    LIMIT 15\n",
    "\"\"\"\n",
    "df = pd.read_sql_query(query,conn)\n",
    "df"
   ]
  },
  {
   "cell_type": "markdown",
   "metadata": {},
   "source": [
    "*7-os 10 Paises que mais enviaram turistas pra Pernambuco*"
   ]
  },
  {
   "cell_type": "code",
   "execution_count": 87,
   "metadata": {},
   "outputs": [
    {
     "data": {
      "text/html": [
       "<div>\n",
       "<style scoped>\n",
       "    .dataframe tbody tr th:only-of-type {\n",
       "        vertical-align: middle;\n",
       "    }\n",
       "\n",
       "    .dataframe tbody tr th {\n",
       "        vertical-align: top;\n",
       "    }\n",
       "\n",
       "    .dataframe thead th {\n",
       "        text-align: right;\n",
       "    }\n",
       "</style>\n",
       "<table border=\"1\" class=\"dataframe\">\n",
       "  <thead>\n",
       "    <tr style=\"text-align: right;\">\n",
       "      <th></th>\n",
       "      <th>nome</th>\n",
       "      <th>qtd</th>\n",
       "    </tr>\n",
       "  </thead>\n",
       "  <tbody>\n",
       "    <tr>\n",
       "      <th>0</th>\n",
       "      <td>Franca</td>\n",
       "      <td>48</td>\n",
       "    </tr>\n",
       "    <tr>\n",
       "      <th>1</th>\n",
       "      <td>Estados Unidos</td>\n",
       "      <td>41</td>\n",
       "    </tr>\n",
       "    <tr>\n",
       "      <th>2</th>\n",
       "      <td>Alemanha</td>\n",
       "      <td>41</td>\n",
       "    </tr>\n",
       "    <tr>\n",
       "      <th>3</th>\n",
       "      <td>Reino Unido</td>\n",
       "      <td>39</td>\n",
       "    </tr>\n",
       "    <tr>\n",
       "      <th>4</th>\n",
       "      <td>Argentina</td>\n",
       "      <td>35</td>\n",
       "    </tr>\n",
       "    <tr>\n",
       "      <th>5</th>\n",
       "      <td>Italia</td>\n",
       "      <td>33</td>\n",
       "    </tr>\n",
       "    <tr>\n",
       "      <th>6</th>\n",
       "      <td>Espanha</td>\n",
       "      <td>33</td>\n",
       "    </tr>\n",
       "    <tr>\n",
       "      <th>7</th>\n",
       "      <td>Africa do Sul</td>\n",
       "      <td>33</td>\n",
       "    </tr>\n",
       "    <tr>\n",
       "      <th>8</th>\n",
       "      <td>Su��a</td>\n",
       "      <td>32</td>\n",
       "    </tr>\n",
       "    <tr>\n",
       "      <th>9</th>\n",
       "      <td>Holanda</td>\n",
       "      <td>32</td>\n",
       "    </tr>\n",
       "  </tbody>\n",
       "</table>\n",
       "</div>"
      ],
      "text/plain": [
       "             nome  qtd\n",
       "0          Franca   48\n",
       "1  Estados Unidos   41\n",
       "2        Alemanha   41\n",
       "3     Reino Unido   39\n",
       "4       Argentina   35\n",
       "5          Italia   33\n",
       "6         Espanha   33\n",
       "7   Africa do Sul   33\n",
       "8           Su��a   32\n",
       "9         Holanda   32"
      ]
     },
     "execution_count": 87,
     "metadata": {},
     "output_type": "execute_result"
    }
   ],
   "source": [
    "query=\"\"\"\n",
    "SELECT DISTINCT\n",
    " \n",
    "\t\t\tp.nome,\n",
    "\t\t\tCOUNT(c.quantidade) as qtd\n",
    "\t\tFROM\n",
    "\t\t\tPais as p\n",
    "\t\tJOIN\n",
    "\t\t\tChegada as c ON p.cod_pais = c.cod_pais\n",
    "\t\tJOIN\n",
    "\t\t\tUnidade_Federativa as uf ON c.cod_uf = uf.cod_uf\n",
    "\t\tWHERE\n",
    "\t\t\tuf.nome = 'Pernambuco' AND\n",
    "            p.nome != 'Outros paises'\n",
    "\t\tGROUP BY\n",
    "\t\t\tp.nome\n",
    "\t\tORDER BY\n",
    "\t\t\tqtd DESC\n",
    "        LIMIT 10\n",
    "\"\"\"\n",
    "df = pd.read_sql_query(query,conn)\n",
    "df"
   ]
  },
  {
   "cell_type": "markdown",
   "metadata": {},
   "source": [
    "*8-listar os paises que tiveram mais de 80 turistas no Brasil em novembro*"
   ]
  },
  {
   "cell_type": "code",
   "execution_count": 90,
   "metadata": {},
   "outputs": [
    {
     "data": {
      "text/html": [
       "<div>\n",
       "<style scoped>\n",
       "    .dataframe tbody tr th:only-of-type {\n",
       "        vertical-align: middle;\n",
       "    }\n",
       "\n",
       "    .dataframe tbody tr th {\n",
       "        vertical-align: top;\n",
       "    }\n",
       "\n",
       "    .dataframe thead th {\n",
       "        text-align: right;\n",
       "    }\n",
       "</style>\n",
       "<table border=\"1\" class=\"dataframe\">\n",
       "  <thead>\n",
       "    <tr style=\"text-align: right;\">\n",
       "      <th></th>\n",
       "      <th>nome</th>\n",
       "      <th>qtd</th>\n",
       "    </tr>\n",
       "  </thead>\n",
       "  <tbody>\n",
       "    <tr>\n",
       "      <th>0</th>\n",
       "      <td>Argentina</td>\n",
       "      <td>112</td>\n",
       "    </tr>\n",
       "    <tr>\n",
       "      <th>1</th>\n",
       "      <td>Alemanha</td>\n",
       "      <td>102</td>\n",
       "    </tr>\n",
       "    <tr>\n",
       "      <th>2</th>\n",
       "      <td>Franca</td>\n",
       "      <td>96</td>\n",
       "    </tr>\n",
       "    <tr>\n",
       "      <th>3</th>\n",
       "      <td>Estados Unidos</td>\n",
       "      <td>92</td>\n",
       "    </tr>\n",
       "    <tr>\n",
       "      <th>4</th>\n",
       "      <td>Peru</td>\n",
       "      <td>89</td>\n",
       "    </tr>\n",
       "    <tr>\n",
       "      <th>5</th>\n",
       "      <td>Espanha</td>\n",
       "      <td>88</td>\n",
       "    </tr>\n",
       "    <tr>\n",
       "      <th>6</th>\n",
       "      <td>Colombia</td>\n",
       "      <td>84</td>\n",
       "    </tr>\n",
       "    <tr>\n",
       "      <th>7</th>\n",
       "      <td>Uruguai</td>\n",
       "      <td>82</td>\n",
       "    </tr>\n",
       "    <tr>\n",
       "      <th>8</th>\n",
       "      <td>Paraguai</td>\n",
       "      <td>82</td>\n",
       "    </tr>\n",
       "    <tr>\n",
       "      <th>9</th>\n",
       "      <td>Chile</td>\n",
       "      <td>82</td>\n",
       "    </tr>\n",
       "    <tr>\n",
       "      <th>10</th>\n",
       "      <td>Venezuela</td>\n",
       "      <td>81</td>\n",
       "    </tr>\n",
       "  </tbody>\n",
       "</table>\n",
       "</div>"
      ],
      "text/plain": [
       "              nome  qtd\n",
       "0        Argentina  112\n",
       "1         Alemanha  102\n",
       "2           Franca   96\n",
       "3   Estados Unidos   92\n",
       "4             Peru   89\n",
       "5          Espanha   88\n",
       "6         Colombia   84\n",
       "7          Uruguai   82\n",
       "8         Paraguai   82\n",
       "9            Chile   82\n",
       "10       Venezuela   81"
      ]
     },
     "execution_count": 90,
     "metadata": {},
     "output_type": "execute_result"
    }
   ],
   "source": [
    "query=\"\"\"\n",
    "SELECT DISTINCT\n",
    "\n",
    "\t\t\tp.nome,\n",
    "\t\t\tCOUNT(c.quantidade) as qtd\n",
    "\t\tFROM\n",
    "\t\t\tPais as p\n",
    "\t\tJOIN\n",
    "\t\t\tChegada as c ON p.cod_pais = c.cod_pais\n",
    "\t\tJOIN\n",
    "\t\t\tMes as m ON c.cod_mes = m.cod_mes\n",
    "\t\tWHERE\n",
    "\t\t\tm.nome = 'Novembro'AND\n",
    "            p.nome != 'Outros paises'\n",
    "\t\tGROUP BY\n",
    "\t\t\tp.nome\n",
    "\t\tHAVING\n",
    "\t\t\tCOUNT(c.quantidade) > 80\n",
    "\t\tORDER BY\n",
    "\t\t\tqtd DESC\n",
    "\"\"\"\n",
    "df = pd.read_sql_query(query,conn)\n",
    "df"
   ]
  },
  {
   "cell_type": "markdown",
   "metadata": {},
   "source": [
    "* **2 consultas\tenvolvendo\tfunções\tde\tagregação\tsobre\to\tresultado\tda\tjunção\tde\tpelo\tmenos\tduas\trelações.**"
   ]
  },
  {
   "cell_type": "markdown",
   "metadata": {},
   "source": [
    "*9-selecionar as unidades federativas e a quantidade de estrangeiros que elas receberam para mais de 2000 chegadas*"
   ]
  },
  {
   "cell_type": "code",
   "execution_count": 94,
   "metadata": {},
   "outputs": [
    {
     "data": {
      "text/html": [
       "<div>\n",
       "<style scoped>\n",
       "    .dataframe tbody tr th:only-of-type {\n",
       "        vertical-align: middle;\n",
       "    }\n",
       "\n",
       "    .dataframe tbody tr th {\n",
       "        vertical-align: top;\n",
       "    }\n",
       "\n",
       "    .dataframe thead th {\n",
       "        text-align: right;\n",
       "    }\n",
       "</style>\n",
       "<table border=\"1\" class=\"dataframe\">\n",
       "  <thead>\n",
       "    <tr style=\"text-align: right;\">\n",
       "      <th></th>\n",
       "      <th>nome</th>\n",
       "      <th>qtd</th>\n",
       "    </tr>\n",
       "  </thead>\n",
       "  <tbody>\n",
       "    <tr>\n",
       "      <th>0</th>\n",
       "      <td>S�o Paulo</td>\n",
       "      <td>4816</td>\n",
       "    </tr>\n",
       "    <tr>\n",
       "      <th>1</th>\n",
       "      <td>Rio Grande do Sul</td>\n",
       "      <td>4806</td>\n",
       "    </tr>\n",
       "    <tr>\n",
       "      <th>2</th>\n",
       "      <td>Paran�</td>\n",
       "      <td>4420</td>\n",
       "    </tr>\n",
       "    <tr>\n",
       "      <th>3</th>\n",
       "      <td>Rio de Janeiro</td>\n",
       "      <td>3140</td>\n",
       "    </tr>\n",
       "  </tbody>\n",
       "</table>\n",
       "</div>"
      ],
      "text/plain": [
       "                nome   qtd\n",
       "0          S�o Paulo  4816\n",
       "1  Rio Grande do Sul  4806\n",
       "2             Paran�  4420\n",
       "3     Rio de Janeiro  3140"
      ]
     },
     "execution_count": 94,
     "metadata": {},
     "output_type": "execute_result"
    }
   ],
   "source": [
    "query=\"\"\"\n",
    "SELECT DISTINCT\n",
    "\t\t\tuf.nome, \n",
    "\t\t\tCOUNT(c.quantidade) AS qtd\n",
    "\t\tFROM\n",
    "\t\t\tUnidade_Federativa as uf\n",
    "\t\tJOIN\n",
    "\t\t\tChegada as c ON uf.cod_uf = c.cod_uf\n",
    "\t\tJOIN\n",
    "\t\t\tPais as p ON c.cod_pais = p.cod_pais\n",
    "\t\tJOIN\n",
    "\t\t\tContinente as co ON p.cod_continente = co.cod_continente\n",
    "\t\tGROUP BY\n",
    "\t\t\tuf.nome\n",
    "\t\tHAVING\n",
    "\t\t\tCOUNT(c.quantidade) > 2000\n",
    "        ORDER BY qtd DESC\n",
    "\"\"\"\n",
    "df = pd.read_sql_query(query,conn)\n",
    "df"
   ]
  },
  {
   "cell_type": "markdown",
   "metadata": {},
   "source": [
    "*10-qual a estacao que teve o maior numero de chegadas de turistas vindos do hemisferio norte*"
   ]
  },
  {
   "cell_type": "code",
   "execution_count": 97,
   "metadata": {},
   "outputs": [
    {
     "data": {
      "text/html": [
       "<div>\n",
       "<style scoped>\n",
       "    .dataframe tbody tr th:only-of-type {\n",
       "        vertical-align: middle;\n",
       "    }\n",
       "\n",
       "    .dataframe tbody tr th {\n",
       "        vertical-align: top;\n",
       "    }\n",
       "\n",
       "    .dataframe thead th {\n",
       "        text-align: right;\n",
       "    }\n",
       "</style>\n",
       "<table border=\"1\" class=\"dataframe\">\n",
       "  <thead>\n",
       "    <tr style=\"text-align: right;\">\n",
       "      <th></th>\n",
       "      <th>estacao</th>\n",
       "      <th>qtd</th>\n",
       "    </tr>\n",
       "  </thead>\n",
       "  <tbody>\n",
       "    <tr>\n",
       "      <th>0</th>\n",
       "      <td>Primavera</td>\n",
       "      <td>13854</td>\n",
       "    </tr>\n",
       "  </tbody>\n",
       "</table>\n",
       "</div>"
      ],
      "text/plain": [
       "     estacao    qtd\n",
       "0  Primavera  13854"
      ]
     },
     "execution_count": 97,
     "metadata": {},
     "output_type": "execute_result"
    }
   ],
   "source": [
    "query=\"\"\"\n",
    "SELECT DISTINCT\n",
    "\t\t\tm.estacao,\n",
    "\t\t\tCOUNT(c.quantidade) as qtd\n",
    "\t\tFROM\n",
    "\t\t\tMes as m\n",
    "\t\tJOIN\n",
    "\t\t\tChegada as c ON m.cod_mes = c.cod_mes\n",
    "\t\tJOIN\n",
    "\t\t\tPais as p ON c.cod_pais = p.cod_pais\n",
    "\t\tJOIN\n",
    "\t\t\tContinente as co ON p.cod_continente = co.cod_continente\n",
    "\t\tGROUP BY\n",
    "\t\t\tm.estacao\n",
    "\t\tORDER BY\n",
    "\t\t\tqtd DESC\n",
    "        LIMIT 1\n",
    "\"\"\"\n",
    "df = pd.read_sql_query(query,conn)\n",
    "df"
   ]
  }
 ],
 "metadata": {
  "colab": {
   "provenance": []
  },
  "kernelspec": {
   "display_name": "Python 3 (ipykernel)",
   "language": "python",
   "name": "python3"
  },
  "language_info": {
   "codemirror_mode": {
    "name": "ipython",
    "version": 3
   },
   "file_extension": ".py",
   "mimetype": "text/x-python",
   "name": "python",
   "nbconvert_exporter": "python",
   "pygments_lexer": "ipython3",
   "version": "3.12.7"
  }
 },
 "nbformat": 4,
 "nbformat_minor": 4
}
